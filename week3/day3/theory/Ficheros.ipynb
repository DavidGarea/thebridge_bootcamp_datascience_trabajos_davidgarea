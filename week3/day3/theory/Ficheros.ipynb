{
 "cells": [
  {
   "cell_type": "markdown",
   "metadata": {},
   "source": [
    "# Ficheros"
   ]
  },
  {
   "cell_type": "markdown",
   "metadata": {},
   "source": [
    "------------------"
   ]
  },
  {
   "cell_type": "code",
   "execution_count": 4,
   "metadata": {},
   "outputs": [],
   "source": [
    "with open('file_to_save.txt', 'a') as open_file:\n",
    "    open_file.write('A string to write\\n')"
   ]
  },
  {
   "cell_type": "code",
   "execution_count": 5,
   "metadata": {},
   "outputs": [],
   "source": [
    "with open('file_to_save.txt', 'a') as open_file:\n",
    "    for i in range(3):\n",
    "        open_file.write('A string to write ' + str(i) + '\\n')"
   ]
  },
  {
   "cell_type": "code",
   "execution_count": 7,
   "metadata": {},
   "outputs": [],
   "source": [
    "with open('file_to_save.txt', 'a') as open_file:\n",
    "    open_file.write(\"\\n------\\n Last Line.\\n \")"
   ]
  },
  {
   "cell_type": "code",
   "execution_count": 8,
   "metadata": {},
   "outputs": [
    {
     "output_type": "stream",
     "name": "stdout",
     "text": "A string to write\nA string to write 0\nA string to write 1\nA string to write 2\n\n------\n Last Line.\n \n"
    }
   ],
   "source": [
    "with open('file_to_save.txt', 'r') as open_file:\n",
    "    all_text = open_file.read()\n",
    "    print(all_text)"
   ]
  },
  {
   "cell_type": "code",
   "execution_count": 13,
   "metadata": {},
   "outputs": [
    {
     "output_type": "stream",
     "name": "stdout",
     "text": "<class 'str'>\nA string to write\n\n"
    }
   ],
   "source": [
    "with open('file_to_save.txt', 'r') as open_file:\n",
    "    line = open_file.readline()\n",
    "    print(type(line))\n",
    "    print(line)"
   ]
  },
  {
   "cell_type": "code",
   "execution_count": 15,
   "metadata": {},
   "outputs": [
    {
     "output_type": "stream",
     "name": "stdout",
     "text": "A string to write\n\nA string to write 0\n\nA string to write 1\n\nA string to write 2\n\n\n\n------\n\n Last Line.\n\n \n- linea: \n"
    }
   ],
   "source": [
    "l = \"\\n\"\n",
    "with open('file_to_save.txt', 'r') as open_file:\n",
    "    line = open_file.readline()\n",
    "    count = 1\n",
    "    while line:\n",
    "        if count == 2:\n",
    "            pass\n",
    "        print(line)\n",
    "        line = open_file.readline()\n",
    "        count += 1\n",
    "    line = open_file.readline()\n",
    "    print(\"- linea:\", line)"
   ]
  },
  {
   "cell_type": "code",
   "execution_count": 19,
   "metadata": {},
   "outputs": [
    {
     "output_type": "stream",
     "name": "stdout",
     "text": "Se ha escrito\nPrimera\n\nSegunda\n\nTercera\n\n"
    }
   ],
   "source": [
    "with open(\"new_file.gh\", \"a\") as new_file:\n",
    "    new_file.write(\"Primera\\n\")\n",
    "    new_file.write(\"Segunda\\n\")\n",
    "    new_file.write(\"Tercera\\n\")\n",
    "    print(\"Se ha escrito\")\n",
    "with open(\"new_file.gh\", \"r\") as new_file:\n",
    "    linea = new_file.readline()\n",
    "    print(linea)\n",
    "    print(new_file.readline())\n",
    "    print(new_file.readline())\n"
   ]
  },
  {
   "cell_type": "code",
   "execution_count": 22,
   "metadata": {},
   "outputs": [
    {
     "output_type": "stream",
     "name": "stdout",
     "text": "A string to write\n\nA string to write 0\n\nA string to write 1\n\n"
    }
   ],
   "source": [
    "with open('file_to_save.txt', 'r') as open_file:\n",
    "    line = open_file.readline()\n",
    "    while line:\n",
    "        if \"1\" in line:\n",
    "            print(line)\n",
    "            break\n",
    "        print(line)\n",
    "        line = open_file.readline()"
   ]
  },
  {
   "cell_type": "code",
   "execution_count": 26,
   "metadata": {},
   "outputs": [
    {
     "output_type": "stream",
     "name": "stdout",
     "text": "Nombre:  Ester \nDinero:   20000\n\n----------\nNombre:  Gabriel \nDinero:   20\n\n----------\n"
    }
   ],
   "source": [
    "with open('file_to_save.txt', 'r') as open_file:\n",
    "    line = open_file.readline()\n",
    "    while line:\n",
    "        if \"|\" in line:\n",
    "            lista_strings = line.split(\"|\")\n",
    "            nombre = lista_strings[0]\n",
    "            dinero = lista_strings[1]\n",
    "            print(\"Nombre: \", nombre)\n",
    "            print(\"Dinero: \", dinero)\n",
    "            print(\"----------\")\n",
    "        line = open_file.readline()"
   ]
  },
  {
   "cell_type": "code",
   "execution_count": 21,
   "metadata": {},
   "outputs": [
    {
     "output_type": "stream",
     "name": "stdout",
     "text": "YES\n"
    }
   ],
   "source": [
    "l = [\"a\", \"b\", \"c\"]\n",
    "\n",
    "if \"a\" in l:\n",
    "    print(\"YES\")"
   ]
  },
  {
   "cell_type": "code",
   "execution_count": 23,
   "metadata": {},
   "outputs": [
    {
     "output_type": "stream",
     "name": "stdout",
     "text": "A\n \ns\nt\nr\ni\nn\ng\n \nt\no\n \nw\nr\ni\nt\ne\n \n"
    }
   ],
   "source": [
    "s = \"A string to write 1\"\n",
    "\n",
    "for elem in s:\n",
    "    if elem == \"1\":\n",
    "        break\n",
    "    print(elem)"
   ]
  },
  {
   "cell_type": "code",
   "execution_count": 24,
   "metadata": {},
   "outputs": [
    {
     "output_type": "stream",
     "name": "stdout",
     "text": "['hello', 'my name is Peter', 'I am 26 years old']\n"
    }
   ],
   "source": [
    "txt = \"hello, my name is Peter, I am 26 years old\"\n",
    "\n",
    "x = txt.split(\", \")\n",
    "\n",
    "print(x)"
   ]
  },
  {
   "cell_type": "code",
   "execution_count": null,
   "metadata": {},
   "outputs": [],
   "source": []
  }
 ],
 "metadata": {
  "language_info": {
   "name": "python",
   "codemirror_mode": {
    "name": "ipython",
    "version": 3
   },
   "version": "3.6.4-final"
  },
  "orig_nbformat": 2,
  "file_extension": ".py",
  "mimetype": "text/x-python",
  "name": "python",
  "npconvert_exporter": "python",
  "pygments_lexer": "ipython3",
  "version": 3,
  "kernelspec": {
   "name": "python36464bitc2077ed07ea84d23aa5b518d224882ab",
   "display_name": "Python 3.6.4 64-bit"
  }
 },
 "nbformat": 4,
 "nbformat_minor": 2
}