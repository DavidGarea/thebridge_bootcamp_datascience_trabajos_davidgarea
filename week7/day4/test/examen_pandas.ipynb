{
 "cells": [
  {
   "cell_type": "markdown",
   "metadata": {},
   "source": [
    "# Examen Pandas - Unidad 1"
   ]
  },
  {
   "cell_type": "markdown",
   "metadata": {},
   "source": [
    "### Data Science The Bridge - 2020"
   ]
  },
  {
   "cell_type": "markdown",
   "metadata": {},
   "source": [
    "Primero de todo, importa la que seguro es ya tu librería favorita y que vas a necesitar, seguro, para realizar este examen. "
   ]
  },
  {
   "cell_type": "code",
   "execution_count": 71,
   "metadata": {},
   "outputs": [],
   "source": [
    "# no borres esto y ejecútalo junto con tu librería favorita\n",
    "import warnings\n",
    "warnings.simplefilter(action='ignore')\n",
    "\n",
    "# aquí tu librería favorita\n",
    "import pandas as pd"
   ]
  },
  {
   "cell_type": "markdown",
   "metadata": {},
   "source": [
    "Para trabajar con **pandas** lo primero que necesitarás, son datos, en la vida real deberías entrar en este enlace de **kaggle** y descargar el dataset: https://www.kaggle.com/neuromusic/avocado-prices. Con el fin de poder leer el `.csv` sin problema, habría que copiarlo en la misma carpeta donde se encuentra este archivo `.ipynb`. \n",
    "\n",
    "Pero como esto es un examen, ya lo tienes en esta carpeta, por lo que solo tienes que leerlo. Asígnalo a la variable `avocado` y muestra las primeras 5 filas. \n",
    "\n",
    "**AVISO**: Al llamar a la función que lee el `.csv` no uses ningún argumento, solo el nombre del archivo `\"avocado_kaggle.csv\"`. "
   ]
  },
  {
   "cell_type": "code",
   "execution_count": 72,
   "metadata": {},
   "outputs": [],
   "source": [
    "avocado = pd.read_csv(\"avocado_kaggle.csv\")"
   ]
  },
  {
   "cell_type": "code",
   "execution_count": 73,
   "metadata": {},
   "outputs": [
    {
     "output_type": "execute_result",
     "data": {
      "text/plain": "       Unnamed: 0        Date  AveragePrice  Total Volume     4046       4225  \\\n0               0  2015-12-27          1.33      64236.62  1036.74   54454.85   \n1               1  2015-12-20          1.35      54876.98   674.28   44638.81   \n2               2  2015-12-13          0.93     118220.22   794.70  109149.67   \n3               3  2015-12-06          1.08      78992.15  1132.00   71976.41   \n4               4  2015-11-29          1.28      51039.60   941.48   43838.39   \n...           ...         ...           ...           ...      ...        ...   \n18244           7  2018-02-04          1.63      17074.83  2046.96    1529.20   \n18245           8  2018-01-28          1.71      13888.04  1191.70    3431.50   \n18246           9  2018-01-21          1.87      13766.76  1191.92    2452.79   \n18247          10  2018-01-14          1.93      16205.22  1527.63    2981.04   \n18248          11  2018-01-07          1.62      17489.58  2894.77    2356.13   \n\n         4770  Total Bags  Small Bags  Large Bags  XLarge Bags          type  \\\n0       48.16     8696.87     8603.62       93.25          0.0  conventional   \n1       58.33     9505.56     9408.07       97.49          0.0  conventional   \n2      130.50     8145.35     8042.21      103.14          0.0  conventional   \n3       72.58     5811.16     5677.40      133.76          0.0  conventional   \n4       75.78     6183.95     5986.26      197.69          0.0  conventional   \n...       ...         ...         ...         ...          ...           ...   \n18244    0.00    13498.67    13066.82      431.85          0.0       organic   \n18245    0.00     9264.84     8940.04      324.80          0.0       organic   \n18246  727.94     9394.11     9351.80       42.31          0.0       organic   \n18247  727.01    10969.54    10919.54       50.00          0.0       organic   \n18248  224.53    12014.15    11988.14       26.01          0.0       organic   \n\n       year            region  \n0      2015            Albany  \n1      2015            Albany  \n2      2015            Albany  \n3      2015            Albany  \n4      2015            Albany  \n...     ...               ...  \n18244  2018  WestTexNewMexico  \n18245  2018  WestTexNewMexico  \n18246  2018  WestTexNewMexico  \n18247  2018  WestTexNewMexico  \n18248  2018  WestTexNewMexico  \n\n[18249 rows x 14 columns]",
      "text/html": "<div>\n<style scoped>\n    .dataframe tbody tr th:only-of-type {\n        vertical-align: middle;\n    }\n\n    .dataframe tbody tr th {\n        vertical-align: top;\n    }\n\n    .dataframe thead th {\n        text-align: right;\n    }\n</style>\n<table border=\"1\" class=\"dataframe\">\n  <thead>\n    <tr style=\"text-align: right;\">\n      <th></th>\n      <th>Unnamed: 0</th>\n      <th>Date</th>\n      <th>AveragePrice</th>\n      <th>Total Volume</th>\n      <th>4046</th>\n      <th>4225</th>\n      <th>4770</th>\n      <th>Total Bags</th>\n      <th>Small Bags</th>\n      <th>Large Bags</th>\n      <th>XLarge Bags</th>\n      <th>type</th>\n      <th>year</th>\n      <th>region</th>\n    </tr>\n  </thead>\n  <tbody>\n    <tr>\n      <th>0</th>\n      <td>0</td>\n      <td>2015-12-27</td>\n      <td>1.33</td>\n      <td>64236.62</td>\n      <td>1036.74</td>\n      <td>54454.85</td>\n      <td>48.16</td>\n      <td>8696.87</td>\n      <td>8603.62</td>\n      <td>93.25</td>\n      <td>0.0</td>\n      <td>conventional</td>\n      <td>2015</td>\n      <td>Albany</td>\n    </tr>\n    <tr>\n      <th>1</th>\n      <td>1</td>\n      <td>2015-12-20</td>\n      <td>1.35</td>\n      <td>54876.98</td>\n      <td>674.28</td>\n      <td>44638.81</td>\n      <td>58.33</td>\n      <td>9505.56</td>\n      <td>9408.07</td>\n      <td>97.49</td>\n      <td>0.0</td>\n      <td>conventional</td>\n      <td>2015</td>\n      <td>Albany</td>\n    </tr>\n    <tr>\n      <th>2</th>\n      <td>2</td>\n      <td>2015-12-13</td>\n      <td>0.93</td>\n      <td>118220.22</td>\n      <td>794.70</td>\n      <td>109149.67</td>\n      <td>130.50</td>\n      <td>8145.35</td>\n      <td>8042.21</td>\n      <td>103.14</td>\n      <td>0.0</td>\n      <td>conventional</td>\n      <td>2015</td>\n      <td>Albany</td>\n    </tr>\n    <tr>\n      <th>3</th>\n      <td>3</td>\n      <td>2015-12-06</td>\n      <td>1.08</td>\n      <td>78992.15</td>\n      <td>1132.00</td>\n      <td>71976.41</td>\n      <td>72.58</td>\n      <td>5811.16</td>\n      <td>5677.40</td>\n      <td>133.76</td>\n      <td>0.0</td>\n      <td>conventional</td>\n      <td>2015</td>\n      <td>Albany</td>\n    </tr>\n    <tr>\n      <th>4</th>\n      <td>4</td>\n      <td>2015-11-29</td>\n      <td>1.28</td>\n      <td>51039.60</td>\n      <td>941.48</td>\n      <td>43838.39</td>\n      <td>75.78</td>\n      <td>6183.95</td>\n      <td>5986.26</td>\n      <td>197.69</td>\n      <td>0.0</td>\n      <td>conventional</td>\n      <td>2015</td>\n      <td>Albany</td>\n    </tr>\n    <tr>\n      <th>...</th>\n      <td>...</td>\n      <td>...</td>\n      <td>...</td>\n      <td>...</td>\n      <td>...</td>\n      <td>...</td>\n      <td>...</td>\n      <td>...</td>\n      <td>...</td>\n      <td>...</td>\n      <td>...</td>\n      <td>...</td>\n      <td>...</td>\n      <td>...</td>\n    </tr>\n    <tr>\n      <th>18244</th>\n      <td>7</td>\n      <td>2018-02-04</td>\n      <td>1.63</td>\n      <td>17074.83</td>\n      <td>2046.96</td>\n      <td>1529.20</td>\n      <td>0.00</td>\n      <td>13498.67</td>\n      <td>13066.82</td>\n      <td>431.85</td>\n      <td>0.0</td>\n      <td>organic</td>\n      <td>2018</td>\n      <td>WestTexNewMexico</td>\n    </tr>\n    <tr>\n      <th>18245</th>\n      <td>8</td>\n      <td>2018-01-28</td>\n      <td>1.71</td>\n      <td>13888.04</td>\n      <td>1191.70</td>\n      <td>3431.50</td>\n      <td>0.00</td>\n      <td>9264.84</td>\n      <td>8940.04</td>\n      <td>324.80</td>\n      <td>0.0</td>\n      <td>organic</td>\n      <td>2018</td>\n      <td>WestTexNewMexico</td>\n    </tr>\n    <tr>\n      <th>18246</th>\n      <td>9</td>\n      <td>2018-01-21</td>\n      <td>1.87</td>\n      <td>13766.76</td>\n      <td>1191.92</td>\n      <td>2452.79</td>\n      <td>727.94</td>\n      <td>9394.11</td>\n      <td>9351.80</td>\n      <td>42.31</td>\n      <td>0.0</td>\n      <td>organic</td>\n      <td>2018</td>\n      <td>WestTexNewMexico</td>\n    </tr>\n    <tr>\n      <th>18247</th>\n      <td>10</td>\n      <td>2018-01-14</td>\n      <td>1.93</td>\n      <td>16205.22</td>\n      <td>1527.63</td>\n      <td>2981.04</td>\n      <td>727.01</td>\n      <td>10969.54</td>\n      <td>10919.54</td>\n      <td>50.00</td>\n      <td>0.0</td>\n      <td>organic</td>\n      <td>2018</td>\n      <td>WestTexNewMexico</td>\n    </tr>\n    <tr>\n      <th>18248</th>\n      <td>11</td>\n      <td>2018-01-07</td>\n      <td>1.62</td>\n      <td>17489.58</td>\n      <td>2894.77</td>\n      <td>2356.13</td>\n      <td>224.53</td>\n      <td>12014.15</td>\n      <td>11988.14</td>\n      <td>26.01</td>\n      <td>0.0</td>\n      <td>organic</td>\n      <td>2018</td>\n      <td>WestTexNewMexico</td>\n    </tr>\n  </tbody>\n</table>\n<p>18249 rows × 14 columns</p>\n</div>"
     },
     "metadata": {},
     "execution_count": 73
    }
   ],
   "source": [
    "avocado\n"
   ]
  },
  {
   "cell_type": "code",
   "execution_count": 74,
   "metadata": {},
   "outputs": [
    {
     "output_type": "execute_result",
     "data": {
      "text/plain": "   Unnamed: 0        Date  AveragePrice  Total Volume     4046       4225  \\\n0           0  2015-12-27          1.33      64236.62  1036.74   54454.85   \n1           1  2015-12-20          1.35      54876.98   674.28   44638.81   \n2           2  2015-12-13          0.93     118220.22   794.70  109149.67   \n3           3  2015-12-06          1.08      78992.15  1132.00   71976.41   \n4           4  2015-11-29          1.28      51039.60   941.48   43838.39   \n\n     4770  Total Bags  Small Bags  Large Bags  XLarge Bags          type  \\\n0   48.16     8696.87     8603.62       93.25          0.0  conventional   \n1   58.33     9505.56     9408.07       97.49          0.0  conventional   \n2  130.50     8145.35     8042.21      103.14          0.0  conventional   \n3   72.58     5811.16     5677.40      133.76          0.0  conventional   \n4   75.78     6183.95     5986.26      197.69          0.0  conventional   \n\n   year  region  \n0  2015  Albany  \n1  2015  Albany  \n2  2015  Albany  \n3  2015  Albany  \n4  2015  Albany  ",
      "text/html": "<div>\n<style scoped>\n    .dataframe tbody tr th:only-of-type {\n        vertical-align: middle;\n    }\n\n    .dataframe tbody tr th {\n        vertical-align: top;\n    }\n\n    .dataframe thead th {\n        text-align: right;\n    }\n</style>\n<table border=\"1\" class=\"dataframe\">\n  <thead>\n    <tr style=\"text-align: right;\">\n      <th></th>\n      <th>Unnamed: 0</th>\n      <th>Date</th>\n      <th>AveragePrice</th>\n      <th>Total Volume</th>\n      <th>4046</th>\n      <th>4225</th>\n      <th>4770</th>\n      <th>Total Bags</th>\n      <th>Small Bags</th>\n      <th>Large Bags</th>\n      <th>XLarge Bags</th>\n      <th>type</th>\n      <th>year</th>\n      <th>region</th>\n    </tr>\n  </thead>\n  <tbody>\n    <tr>\n      <th>0</th>\n      <td>0</td>\n      <td>2015-12-27</td>\n      <td>1.33</td>\n      <td>64236.62</td>\n      <td>1036.74</td>\n      <td>54454.85</td>\n      <td>48.16</td>\n      <td>8696.87</td>\n      <td>8603.62</td>\n      <td>93.25</td>\n      <td>0.0</td>\n      <td>conventional</td>\n      <td>2015</td>\n      <td>Albany</td>\n    </tr>\n    <tr>\n      <th>1</th>\n      <td>1</td>\n      <td>2015-12-20</td>\n      <td>1.35</td>\n      <td>54876.98</td>\n      <td>674.28</td>\n      <td>44638.81</td>\n      <td>58.33</td>\n      <td>9505.56</td>\n      <td>9408.07</td>\n      <td>97.49</td>\n      <td>0.0</td>\n      <td>conventional</td>\n      <td>2015</td>\n      <td>Albany</td>\n    </tr>\n    <tr>\n      <th>2</th>\n      <td>2</td>\n      <td>2015-12-13</td>\n      <td>0.93</td>\n      <td>118220.22</td>\n      <td>794.70</td>\n      <td>109149.67</td>\n      <td>130.50</td>\n      <td>8145.35</td>\n      <td>8042.21</td>\n      <td>103.14</td>\n      <td>0.0</td>\n      <td>conventional</td>\n      <td>2015</td>\n      <td>Albany</td>\n    </tr>\n    <tr>\n      <th>3</th>\n      <td>3</td>\n      <td>2015-12-06</td>\n      <td>1.08</td>\n      <td>78992.15</td>\n      <td>1132.00</td>\n      <td>71976.41</td>\n      <td>72.58</td>\n      <td>5811.16</td>\n      <td>5677.40</td>\n      <td>133.76</td>\n      <td>0.0</td>\n      <td>conventional</td>\n      <td>2015</td>\n      <td>Albany</td>\n    </tr>\n    <tr>\n      <th>4</th>\n      <td>4</td>\n      <td>2015-11-29</td>\n      <td>1.28</td>\n      <td>51039.60</td>\n      <td>941.48</td>\n      <td>43838.39</td>\n      <td>75.78</td>\n      <td>6183.95</td>\n      <td>5986.26</td>\n      <td>197.69</td>\n      <td>0.0</td>\n      <td>conventional</td>\n      <td>2015</td>\n      <td>Albany</td>\n    </tr>\n  </tbody>\n</table>\n</div>"
     },
     "metadata": {},
     "execution_count": 74
    }
   ],
   "source": [
    "avocado.head()"
   ]
  },
  {
   "cell_type": "markdown",
   "metadata": {},
   "source": [
    "Lo primero que debe hacer un Data Scientist es conocer los datos con los que está trabajando, por esto, explora el dataset:\n",
    "- sacando los nombres de las distintas columnas, \n",
    "- qué tipo de datos contienen estas columnas, \n",
    "- cuántas filas y columnas tiene el dataframe,\n",
    "- además de un marco de datos de estadísticas descriptivas de dicho dataframe.\n",
    "\n",
    "Utiliza la función/funciones que te parezcan mejor para hacer dicha exploración. "
   ]
  },
  {
   "cell_type": "code",
   "execution_count": 75,
   "metadata": {
    "tags": []
   },
   "outputs": [
    {
     "output_type": "stream",
     "name": "stdout",
     "text": "Unnamed: 0\nDate\nAveragePrice\nTotal Volume\n4046\n4225\n4770\nTotal Bags\nSmall Bags\nLarge Bags\nXLarge Bags\ntype\nyear\nregion\n"
    }
   ],
   "source": [
    "avocado.columns.values\n",
    "\n",
    "for x in avocado.columns.values:\n",
    "    print(x)\n"
   ]
  },
  {
   "cell_type": "code",
   "execution_count": 76,
   "metadata": {},
   "outputs": [
    {
     "output_type": "execute_result",
     "data": {
      "text/plain": "Unnamed: 0        int64\nDate             object\nAveragePrice    float64\nTotal Volume    float64\n4046            float64\n4225            float64\n4770            float64\nTotal Bags      float64\nSmall Bags      float64\nLarge Bags      float64\nXLarge Bags     float64\ntype             object\nyear              int64\nregion           object\ndtype: object"
     },
     "metadata": {},
     "execution_count": 76
    }
   ],
   "source": [
    "avocado.dtypes"
   ]
  },
  {
   "cell_type": "code",
   "execution_count": 77,
   "metadata": {},
   "outputs": [
    {
     "output_type": "execute_result",
     "data": {
      "text/plain": "         Unnamed: 0  AveragePrice  Total Volume          4046          4225  \\\ncount  18249.000000  18249.000000  1.824900e+04  1.824900e+04  1.824900e+04   \nmean      24.232232      1.405978  8.506440e+05  2.930084e+05  2.951546e+05   \nstd       15.481045      0.402677  3.453545e+06  1.264989e+06  1.204120e+06   \nmin        0.000000      0.440000  8.456000e+01  0.000000e+00  0.000000e+00   \n25%       10.000000      1.100000  1.083858e+04  8.540700e+02  3.008780e+03   \n50%       24.000000      1.370000  1.073768e+05  8.645300e+03  2.906102e+04   \n75%       38.000000      1.660000  4.329623e+05  1.110202e+05  1.502069e+05   \nmax       52.000000      3.250000  6.250565e+07  2.274362e+07  2.047057e+07   \n\n               4770    Total Bags    Small Bags    Large Bags    XLarge Bags  \\\ncount  1.824900e+04  1.824900e+04  1.824900e+04  1.824900e+04   18249.000000   \nmean   2.283974e+04  2.396392e+05  1.821947e+05  5.433809e+04    3106.426507   \nstd    1.074641e+05  9.862424e+05  7.461785e+05  2.439660e+05   17692.894652   \nmin    0.000000e+00  0.000000e+00  0.000000e+00  0.000000e+00       0.000000   \n25%    0.000000e+00  5.088640e+03  2.849420e+03  1.274700e+02       0.000000   \n50%    1.849900e+02  3.974383e+04  2.636282e+04  2.647710e+03       0.000000   \n75%    6.243420e+03  1.107834e+05  8.333767e+04  2.202925e+04     132.500000   \nmax    2.546439e+06  1.937313e+07  1.338459e+07  5.719097e+06  551693.650000   \n\n               year  \ncount  18249.000000  \nmean    2016.147899  \nstd        0.939938  \nmin     2015.000000  \n25%     2015.000000  \n50%     2016.000000  \n75%     2017.000000  \nmax     2018.000000  ",
      "text/html": "<div>\n<style scoped>\n    .dataframe tbody tr th:only-of-type {\n        vertical-align: middle;\n    }\n\n    .dataframe tbody tr th {\n        vertical-align: top;\n    }\n\n    .dataframe thead th {\n        text-align: right;\n    }\n</style>\n<table border=\"1\" class=\"dataframe\">\n  <thead>\n    <tr style=\"text-align: right;\">\n      <th></th>\n      <th>Unnamed: 0</th>\n      <th>AveragePrice</th>\n      <th>Total Volume</th>\n      <th>4046</th>\n      <th>4225</th>\n      <th>4770</th>\n      <th>Total Bags</th>\n      <th>Small Bags</th>\n      <th>Large Bags</th>\n      <th>XLarge Bags</th>\n      <th>year</th>\n    </tr>\n  </thead>\n  <tbody>\n    <tr>\n      <th>count</th>\n      <td>18249.000000</td>\n      <td>18249.000000</td>\n      <td>1.824900e+04</td>\n      <td>1.824900e+04</td>\n      <td>1.824900e+04</td>\n      <td>1.824900e+04</td>\n      <td>1.824900e+04</td>\n      <td>1.824900e+04</td>\n      <td>1.824900e+04</td>\n      <td>18249.000000</td>\n      <td>18249.000000</td>\n    </tr>\n    <tr>\n      <th>mean</th>\n      <td>24.232232</td>\n      <td>1.405978</td>\n      <td>8.506440e+05</td>\n      <td>2.930084e+05</td>\n      <td>2.951546e+05</td>\n      <td>2.283974e+04</td>\n      <td>2.396392e+05</td>\n      <td>1.821947e+05</td>\n      <td>5.433809e+04</td>\n      <td>3106.426507</td>\n      <td>2016.147899</td>\n    </tr>\n    <tr>\n      <th>std</th>\n      <td>15.481045</td>\n      <td>0.402677</td>\n      <td>3.453545e+06</td>\n      <td>1.264989e+06</td>\n      <td>1.204120e+06</td>\n      <td>1.074641e+05</td>\n      <td>9.862424e+05</td>\n      <td>7.461785e+05</td>\n      <td>2.439660e+05</td>\n      <td>17692.894652</td>\n      <td>0.939938</td>\n    </tr>\n    <tr>\n      <th>min</th>\n      <td>0.000000</td>\n      <td>0.440000</td>\n      <td>8.456000e+01</td>\n      <td>0.000000e+00</td>\n      <td>0.000000e+00</td>\n      <td>0.000000e+00</td>\n      <td>0.000000e+00</td>\n      <td>0.000000e+00</td>\n      <td>0.000000e+00</td>\n      <td>0.000000</td>\n      <td>2015.000000</td>\n    </tr>\n    <tr>\n      <th>25%</th>\n      <td>10.000000</td>\n      <td>1.100000</td>\n      <td>1.083858e+04</td>\n      <td>8.540700e+02</td>\n      <td>3.008780e+03</td>\n      <td>0.000000e+00</td>\n      <td>5.088640e+03</td>\n      <td>2.849420e+03</td>\n      <td>1.274700e+02</td>\n      <td>0.000000</td>\n      <td>2015.000000</td>\n    </tr>\n    <tr>\n      <th>50%</th>\n      <td>24.000000</td>\n      <td>1.370000</td>\n      <td>1.073768e+05</td>\n      <td>8.645300e+03</td>\n      <td>2.906102e+04</td>\n      <td>1.849900e+02</td>\n      <td>3.974383e+04</td>\n      <td>2.636282e+04</td>\n      <td>2.647710e+03</td>\n      <td>0.000000</td>\n      <td>2016.000000</td>\n    </tr>\n    <tr>\n      <th>75%</th>\n      <td>38.000000</td>\n      <td>1.660000</td>\n      <td>4.329623e+05</td>\n      <td>1.110202e+05</td>\n      <td>1.502069e+05</td>\n      <td>6.243420e+03</td>\n      <td>1.107834e+05</td>\n      <td>8.333767e+04</td>\n      <td>2.202925e+04</td>\n      <td>132.500000</td>\n      <td>2017.000000</td>\n    </tr>\n    <tr>\n      <th>max</th>\n      <td>52.000000</td>\n      <td>3.250000</td>\n      <td>6.250565e+07</td>\n      <td>2.274362e+07</td>\n      <td>2.047057e+07</td>\n      <td>2.546439e+06</td>\n      <td>1.937313e+07</td>\n      <td>1.338459e+07</td>\n      <td>5.719097e+06</td>\n      <td>551693.650000</td>\n      <td>2018.000000</td>\n    </tr>\n  </tbody>\n</table>\n</div>"
     },
     "metadata": {},
     "execution_count": 77
    }
   ],
   "source": [
    "avocado.describe()"
   ]
  },
  {
   "cell_type": "code",
   "execution_count": 78,
   "metadata": {},
   "outputs": [
    {
     "output_type": "execute_result",
     "data": {
      "text/plain": "(18249, 14)"
     },
     "metadata": {},
     "execution_count": 78
    }
   ],
   "source": [
    "avocado.shape"
   ]
  },
  {
   "cell_type": "markdown",
   "metadata": {},
   "source": [
    "Muestra el index número **2904** de la columna `Date`. "
   ]
  },
  {
   "cell_type": "code",
   "execution_count": 79,
   "metadata": {},
   "outputs": [
    {
     "output_type": "execute_result",
     "data": {
      "text/plain": "'2016-02-21'"
     },
     "metadata": {},
     "execution_count": 79
    }
   ],
   "source": [
    "\n",
    "date2904 = avocado.iloc[2904].Date\n",
    "date2904"
   ]
  },
  {
   "cell_type": "markdown",
   "metadata": {},
   "source": [
    "¿De qué tipo es este valor? "
   ]
  },
  {
   "cell_type": "code",
   "execution_count": 80,
   "metadata": {},
   "outputs": [
    {
     "output_type": "execute_result",
     "data": {
      "text/plain": "str"
     },
     "metadata": {},
     "execution_count": 80
    }
   ],
   "source": [
    "type(date2904)"
   ]
  },
  {
   "cell_type": "markdown",
   "metadata": {},
   "source": [
    "Esta columna contiene fechas, por lo que para poder trabajarla como tal, pásala a tipo `datetime64[ns]`.\n",
    "\n",
    "Existe una forma de importar el archivo `.csv` estableciendo la columna `Date` como el index, si has hecho esto al importar el archivo, a pesar del AVISO, vuelve a importarlo sin incluir argumentos. "
   ]
  },
  {
   "cell_type": "code",
   "execution_count": 81,
   "metadata": {},
   "outputs": [],
   "source": [
    "import datetime as dt"
   ]
  },
  {
   "cell_type": "code",
   "execution_count": 82,
   "metadata": {},
   "outputs": [],
   "source": [
    "avocado.Date = pd.to_datetime(avocado.Date)"
   ]
  },
  {
   "cell_type": "markdown",
   "metadata": {},
   "source": [
    "Establece esta columna como el index de `avocado`. "
   ]
  },
  {
   "cell_type": "code",
   "execution_count": 83,
   "metadata": {},
   "outputs": [],
   "source": [
    "avocado = avocado.set_index('Date')"
   ]
  },
  {
   "cell_type": "markdown",
   "metadata": {},
   "source": [
    "Muestra los 7 últimos valores del dataframe y observa que efectivamente se ha actualizado el index. "
   ]
  },
  {
   "cell_type": "code",
   "execution_count": 87,
   "metadata": {},
   "outputs": [
    {
     "output_type": "execute_result",
     "data": {
      "text/plain": "            AveragePrice  Total Volume     4046     4225    4770  Total Bags  \\\nDate                                                                           \n2018-02-18          1.56      17597.12  1892.05  1928.36    0.00    13776.71   \n2018-02-11          1.57      15986.17  1924.28  1368.32    0.00    12693.57   \n2018-02-04          1.63      17074.83  2046.96  1529.20    0.00    13498.67   \n2018-01-28          1.71      13888.04  1191.70  3431.50    0.00     9264.84   \n2018-01-21          1.87      13766.76  1191.92  2452.79  727.94     9394.11   \n2018-01-14          1.93      16205.22  1527.63  2981.04  727.01    10969.54   \n2018-01-07          1.62      17489.58  2894.77  2356.13  224.53    12014.15   \n\n            Small Bags  Large Bags  XLarge Bags     type  year  \\\nDate                                                             \n2018-02-18    13553.53      223.18          0.0  organic  2018   \n2018-02-11    12437.35      256.22          0.0  organic  2018   \n2018-02-04    13066.82      431.85          0.0  organic  2018   \n2018-01-28     8940.04      324.80          0.0  organic  2018   \n2018-01-21     9351.80       42.31          0.0  organic  2018   \n2018-01-14    10919.54       50.00          0.0  organic  2018   \n2018-01-07    11988.14       26.01          0.0  organic  2018   \n\n                      region  \nDate                          \n2018-02-18  WestTexNewMexico  \n2018-02-11  WestTexNewMexico  \n2018-02-04  WestTexNewMexico  \n2018-01-28  WestTexNewMexico  \n2018-01-21  WestTexNewMexico  \n2018-01-14  WestTexNewMexico  \n2018-01-07  WestTexNewMexico  ",
      "text/html": "<div>\n<style scoped>\n    .dataframe tbody tr th:only-of-type {\n        vertical-align: middle;\n    }\n\n    .dataframe tbody tr th {\n        vertical-align: top;\n    }\n\n    .dataframe thead th {\n        text-align: right;\n    }\n</style>\n<table border=\"1\" class=\"dataframe\">\n  <thead>\n    <tr style=\"text-align: right;\">\n      <th></th>\n      <th>AveragePrice</th>\n      <th>Total Volume</th>\n      <th>4046</th>\n      <th>4225</th>\n      <th>4770</th>\n      <th>Total Bags</th>\n      <th>Small Bags</th>\n      <th>Large Bags</th>\n      <th>XLarge Bags</th>\n      <th>type</th>\n      <th>year</th>\n      <th>region</th>\n    </tr>\n    <tr>\n      <th>Date</th>\n      <th></th>\n      <th></th>\n      <th></th>\n      <th></th>\n      <th></th>\n      <th></th>\n      <th></th>\n      <th></th>\n      <th></th>\n      <th></th>\n      <th></th>\n      <th></th>\n    </tr>\n  </thead>\n  <tbody>\n    <tr>\n      <th>2018-02-18</th>\n      <td>1.56</td>\n      <td>17597.12</td>\n      <td>1892.05</td>\n      <td>1928.36</td>\n      <td>0.00</td>\n      <td>13776.71</td>\n      <td>13553.53</td>\n      <td>223.18</td>\n      <td>0.0</td>\n      <td>organic</td>\n      <td>2018</td>\n      <td>WestTexNewMexico</td>\n    </tr>\n    <tr>\n      <th>2018-02-11</th>\n      <td>1.57</td>\n      <td>15986.17</td>\n      <td>1924.28</td>\n      <td>1368.32</td>\n      <td>0.00</td>\n      <td>12693.57</td>\n      <td>12437.35</td>\n      <td>256.22</td>\n      <td>0.0</td>\n      <td>organic</td>\n      <td>2018</td>\n      <td>WestTexNewMexico</td>\n    </tr>\n    <tr>\n      <th>2018-02-04</th>\n      <td>1.63</td>\n      <td>17074.83</td>\n      <td>2046.96</td>\n      <td>1529.20</td>\n      <td>0.00</td>\n      <td>13498.67</td>\n      <td>13066.82</td>\n      <td>431.85</td>\n      <td>0.0</td>\n      <td>organic</td>\n      <td>2018</td>\n      <td>WestTexNewMexico</td>\n    </tr>\n    <tr>\n      <th>2018-01-28</th>\n      <td>1.71</td>\n      <td>13888.04</td>\n      <td>1191.70</td>\n      <td>3431.50</td>\n      <td>0.00</td>\n      <td>9264.84</td>\n      <td>8940.04</td>\n      <td>324.80</td>\n      <td>0.0</td>\n      <td>organic</td>\n      <td>2018</td>\n      <td>WestTexNewMexico</td>\n    </tr>\n    <tr>\n      <th>2018-01-21</th>\n      <td>1.87</td>\n      <td>13766.76</td>\n      <td>1191.92</td>\n      <td>2452.79</td>\n      <td>727.94</td>\n      <td>9394.11</td>\n      <td>9351.80</td>\n      <td>42.31</td>\n      <td>0.0</td>\n      <td>organic</td>\n      <td>2018</td>\n      <td>WestTexNewMexico</td>\n    </tr>\n    <tr>\n      <th>2018-01-14</th>\n      <td>1.93</td>\n      <td>16205.22</td>\n      <td>1527.63</td>\n      <td>2981.04</td>\n      <td>727.01</td>\n      <td>10969.54</td>\n      <td>10919.54</td>\n      <td>50.00</td>\n      <td>0.0</td>\n      <td>organic</td>\n      <td>2018</td>\n      <td>WestTexNewMexico</td>\n    </tr>\n    <tr>\n      <th>2018-01-07</th>\n      <td>1.62</td>\n      <td>17489.58</td>\n      <td>2894.77</td>\n      <td>2356.13</td>\n      <td>224.53</td>\n      <td>12014.15</td>\n      <td>11988.14</td>\n      <td>26.01</td>\n      <td>0.0</td>\n      <td>organic</td>\n      <td>2018</td>\n      <td>WestTexNewMexico</td>\n    </tr>\n  </tbody>\n</table>\n</div>"
     },
     "metadata": {},
     "execution_count": 87
    }
   ],
   "source": [
    "avocado.tail(7)"
   ]
  },
  {
   "cell_type": "markdown",
   "metadata": {},
   "source": [
    "Además si al leer el archivo `.csv` no eliminaste esta columna, el dataframe seguirá teniendo una columna llamada `Unnamed: 0` que contendría el valor de los index. Si es así, elimínala."
   ]
  },
  {
   "cell_type": "code",
   "execution_count": 120,
   "metadata": {},
   "outputs": [
    {
     "output_type": "error",
     "ename": "KeyError",
     "evalue": "\"['Unnamed: 0'] not found in axis\"",
     "traceback": [
      "\u001b[0;31m---------------------------------------------------------------------------\u001b[0m",
      "\u001b[0;31mKeyError\u001b[0m                                  Traceback (most recent call last)",
      "\u001b[0;32m<ipython-input-120-dd42e29fa9af>\u001b[0m in \u001b[0;36m<module>\u001b[0;34m\u001b[0m\n\u001b[1;32m      1\u001b[0m \u001b[0;31m#No lo eliminé la columna al leer el archivo pero ahora no aparece. No obstante dejo cómo lo haría en caso de que estuviera en el df.\u001b[0m\u001b[0;34m\u001b[0m\u001b[0;34m\u001b[0m\u001b[0;34m\u001b[0m\u001b[0m\n\u001b[1;32m      2\u001b[0m \u001b[0;34m\u001b[0m\u001b[0m\n\u001b[0;32m----> 3\u001b[0;31m \u001b[0mavocado\u001b[0m \u001b[0;34m=\u001b[0m \u001b[0mavocado\u001b[0m\u001b[0;34m.\u001b[0m\u001b[0mdrop\u001b[0m\u001b[0;34m(\u001b[0m\u001b[0;34m[\u001b[0m\u001b[0;34m\"Unnamed: 0\"\u001b[0m\u001b[0;34m]\u001b[0m\u001b[0;34m,\u001b[0m \u001b[0maxis\u001b[0m \u001b[0;34m=\u001b[0m \u001b[0;36m1\u001b[0m\u001b[0;34m)\u001b[0m\u001b[0;34m\u001b[0m\u001b[0;34m\u001b[0m\u001b[0m\n\u001b[0m",
      "\u001b[0;32m/Library/Frameworks/Python.framework/Versions/3.8/lib/python3.8/site-packages/pandas/core/frame.py\u001b[0m in \u001b[0;36mdrop\u001b[0;34m(self, labels, axis, index, columns, level, inplace, errors)\u001b[0m\n\u001b[1;32m   3988\u001b[0m                 \u001b[0mweight\u001b[0m  \u001b[0;36m1.0\u001b[0m     \u001b[0;36m0.8\u001b[0m\u001b[0;34m\u001b[0m\u001b[0;34m\u001b[0m\u001b[0m\n\u001b[1;32m   3989\u001b[0m         \"\"\"\n\u001b[0;32m-> 3990\u001b[0;31m         return super().drop(\n\u001b[0m\u001b[1;32m   3991\u001b[0m             \u001b[0mlabels\u001b[0m\u001b[0;34m=\u001b[0m\u001b[0mlabels\u001b[0m\u001b[0;34m,\u001b[0m\u001b[0;34m\u001b[0m\u001b[0;34m\u001b[0m\u001b[0m\n\u001b[1;32m   3992\u001b[0m             \u001b[0maxis\u001b[0m\u001b[0;34m=\u001b[0m\u001b[0maxis\u001b[0m\u001b[0;34m,\u001b[0m\u001b[0;34m\u001b[0m\u001b[0;34m\u001b[0m\u001b[0m\n",
      "\u001b[0;32m/Library/Frameworks/Python.framework/Versions/3.8/lib/python3.8/site-packages/pandas/core/generic.py\u001b[0m in \u001b[0;36mdrop\u001b[0;34m(self, labels, axis, index, columns, level, inplace, errors)\u001b[0m\n\u001b[1;32m   3934\u001b[0m         \u001b[0;32mfor\u001b[0m \u001b[0maxis\u001b[0m\u001b[0;34m,\u001b[0m \u001b[0mlabels\u001b[0m \u001b[0;32min\u001b[0m \u001b[0maxes\u001b[0m\u001b[0;34m.\u001b[0m\u001b[0mitems\u001b[0m\u001b[0;34m(\u001b[0m\u001b[0;34m)\u001b[0m\u001b[0;34m:\u001b[0m\u001b[0;34m\u001b[0m\u001b[0;34m\u001b[0m\u001b[0m\n\u001b[1;32m   3935\u001b[0m             \u001b[0;32mif\u001b[0m \u001b[0mlabels\u001b[0m \u001b[0;32mis\u001b[0m \u001b[0;32mnot\u001b[0m \u001b[0;32mNone\u001b[0m\u001b[0;34m:\u001b[0m\u001b[0;34m\u001b[0m\u001b[0;34m\u001b[0m\u001b[0m\n\u001b[0;32m-> 3936\u001b[0;31m                 \u001b[0mobj\u001b[0m \u001b[0;34m=\u001b[0m \u001b[0mobj\u001b[0m\u001b[0;34m.\u001b[0m\u001b[0m_drop_axis\u001b[0m\u001b[0;34m(\u001b[0m\u001b[0mlabels\u001b[0m\u001b[0;34m,\u001b[0m \u001b[0maxis\u001b[0m\u001b[0;34m,\u001b[0m \u001b[0mlevel\u001b[0m\u001b[0;34m=\u001b[0m\u001b[0mlevel\u001b[0m\u001b[0;34m,\u001b[0m \u001b[0merrors\u001b[0m\u001b[0;34m=\u001b[0m\u001b[0merrors\u001b[0m\u001b[0;34m)\u001b[0m\u001b[0;34m\u001b[0m\u001b[0;34m\u001b[0m\u001b[0m\n\u001b[0m\u001b[1;32m   3937\u001b[0m \u001b[0;34m\u001b[0m\u001b[0m\n\u001b[1;32m   3938\u001b[0m         \u001b[0;32mif\u001b[0m \u001b[0minplace\u001b[0m\u001b[0;34m:\u001b[0m\u001b[0;34m\u001b[0m\u001b[0;34m\u001b[0m\u001b[0m\n",
      "\u001b[0;32m/Library/Frameworks/Python.framework/Versions/3.8/lib/python3.8/site-packages/pandas/core/generic.py\u001b[0m in \u001b[0;36m_drop_axis\u001b[0;34m(self, labels, axis, level, errors)\u001b[0m\n\u001b[1;32m   3968\u001b[0m                 \u001b[0mnew_axis\u001b[0m \u001b[0;34m=\u001b[0m \u001b[0maxis\u001b[0m\u001b[0;34m.\u001b[0m\u001b[0mdrop\u001b[0m\u001b[0;34m(\u001b[0m\u001b[0mlabels\u001b[0m\u001b[0;34m,\u001b[0m \u001b[0mlevel\u001b[0m\u001b[0;34m=\u001b[0m\u001b[0mlevel\u001b[0m\u001b[0;34m,\u001b[0m \u001b[0merrors\u001b[0m\u001b[0;34m=\u001b[0m\u001b[0merrors\u001b[0m\u001b[0;34m)\u001b[0m\u001b[0;34m\u001b[0m\u001b[0;34m\u001b[0m\u001b[0m\n\u001b[1;32m   3969\u001b[0m             \u001b[0;32melse\u001b[0m\u001b[0;34m:\u001b[0m\u001b[0;34m\u001b[0m\u001b[0;34m\u001b[0m\u001b[0m\n\u001b[0;32m-> 3970\u001b[0;31m                 \u001b[0mnew_axis\u001b[0m \u001b[0;34m=\u001b[0m \u001b[0maxis\u001b[0m\u001b[0;34m.\u001b[0m\u001b[0mdrop\u001b[0m\u001b[0;34m(\u001b[0m\u001b[0mlabels\u001b[0m\u001b[0;34m,\u001b[0m \u001b[0merrors\u001b[0m\u001b[0;34m=\u001b[0m\u001b[0merrors\u001b[0m\u001b[0;34m)\u001b[0m\u001b[0;34m\u001b[0m\u001b[0;34m\u001b[0m\u001b[0m\n\u001b[0m\u001b[1;32m   3971\u001b[0m             \u001b[0mresult\u001b[0m \u001b[0;34m=\u001b[0m \u001b[0mself\u001b[0m\u001b[0;34m.\u001b[0m\u001b[0mreindex\u001b[0m\u001b[0;34m(\u001b[0m\u001b[0;34m**\u001b[0m\u001b[0;34m{\u001b[0m\u001b[0maxis_name\u001b[0m\u001b[0;34m:\u001b[0m \u001b[0mnew_axis\u001b[0m\u001b[0;34m}\u001b[0m\u001b[0;34m)\u001b[0m\u001b[0;34m\u001b[0m\u001b[0;34m\u001b[0m\u001b[0m\n\u001b[1;32m   3972\u001b[0m \u001b[0;34m\u001b[0m\u001b[0m\n",
      "\u001b[0;32m/Library/Frameworks/Python.framework/Versions/3.8/lib/python3.8/site-packages/pandas/core/indexes/base.py\u001b[0m in \u001b[0;36mdrop\u001b[0;34m(self, labels, errors)\u001b[0m\n\u001b[1;32m   5016\u001b[0m         \u001b[0;32mif\u001b[0m \u001b[0mmask\u001b[0m\u001b[0;34m.\u001b[0m\u001b[0many\u001b[0m\u001b[0;34m(\u001b[0m\u001b[0;34m)\u001b[0m\u001b[0;34m:\u001b[0m\u001b[0;34m\u001b[0m\u001b[0;34m\u001b[0m\u001b[0m\n\u001b[1;32m   5017\u001b[0m             \u001b[0;32mif\u001b[0m \u001b[0merrors\u001b[0m \u001b[0;34m!=\u001b[0m \u001b[0;34m\"ignore\"\u001b[0m\u001b[0;34m:\u001b[0m\u001b[0;34m\u001b[0m\u001b[0;34m\u001b[0m\u001b[0m\n\u001b[0;32m-> 5018\u001b[0;31m                 \u001b[0;32mraise\u001b[0m \u001b[0mKeyError\u001b[0m\u001b[0;34m(\u001b[0m\u001b[0;34mf\"{labels[mask]} not found in axis\"\u001b[0m\u001b[0;34m)\u001b[0m\u001b[0;34m\u001b[0m\u001b[0;34m\u001b[0m\u001b[0m\n\u001b[0m\u001b[1;32m   5019\u001b[0m             \u001b[0mindexer\u001b[0m \u001b[0;34m=\u001b[0m \u001b[0mindexer\u001b[0m\u001b[0;34m[\u001b[0m\u001b[0;34m~\u001b[0m\u001b[0mmask\u001b[0m\u001b[0;34m]\u001b[0m\u001b[0;34m\u001b[0m\u001b[0;34m\u001b[0m\u001b[0m\n\u001b[1;32m   5020\u001b[0m         \u001b[0;32mreturn\u001b[0m \u001b[0mself\u001b[0m\u001b[0;34m.\u001b[0m\u001b[0mdelete\u001b[0m\u001b[0;34m(\u001b[0m\u001b[0mindexer\u001b[0m\u001b[0;34m)\u001b[0m\u001b[0;34m\u001b[0m\u001b[0;34m\u001b[0m\u001b[0m\n",
      "\u001b[0;31mKeyError\u001b[0m: \"['Unnamed: 0'] not found in axis\""
     ]
    }
   ],
   "source": [
    "#No lo eliminé la columna al leer el archivo pero ahora no aparece. No obstante dejo cómo lo haría en caso de que estuviera en el df.\n",
    "\n",
    "avocado = avocado.drop([\"Unnamed: 0\"], axis = 1)\n"
   ]
  },
  {
   "cell_type": "markdown",
   "metadata": {},
   "source": [
    "¿Qué columnas continúan siendo de tipo **object**? Usa al menos una función de **pandas** para ello. "
   ]
  },
  {
   "cell_type": "code",
   "execution_count": 95,
   "metadata": {},
   "outputs": [
    {
     "output_type": "execute_result",
     "data": {
      "text/plain": "AveragePrice    float64\nTotal Volume    float64\n4046            float64\n4225            float64\n4770            float64\nTotal Bags      float64\nSmall Bags      float64\nLarge Bags      float64\nXLarge Bags     float64\ntype             object\nyear              int64\nregion           object\ndtype: object"
     },
     "metadata": {},
     "execution_count": 95
    }
   ],
   "source": [
    "avocado.dtypes"
   ]
  },
  {
   "cell_type": "code",
   "execution_count": 96,
   "metadata": {
    "tags": []
   },
   "outputs": [
    {
     "output_type": "stream",
     "name": "stdout",
     "text": "<class 'pandas.core.frame.DataFrame'>\nDatetimeIndex: 18249 entries, 2015-12-27 to 2018-01-07\nData columns (total 12 columns):\n #   Column        Non-Null Count  Dtype  \n---  ------        --------------  -----  \n 0   AveragePrice  18249 non-null  float64\n 1   Total Volume  18249 non-null  float64\n 2   4046          18249 non-null  float64\n 3   4225          18249 non-null  float64\n 4   4770          18249 non-null  float64\n 5   Total Bags    18249 non-null  float64\n 6   Small Bags    18249 non-null  float64\n 7   Large Bags    18249 non-null  float64\n 8   XLarge Bags   18249 non-null  float64\n 9   type          18249 non-null  object \n 10  year          18249 non-null  int64  \n 11  region        18249 non-null  object \ndtypes: float64(9), int64(1), object(2)\nmemory usage: 2.4+ MB\n"
    }
   ],
   "source": [
    "avocado.info()"
   ]
  },
  {
   "cell_type": "markdown",
   "metadata": {},
   "source": [
    "¿Cuántos valores únicos encontramos en estas columnas que continúan siendo de tipo **object**? "
   ]
  },
  {
   "cell_type": "code",
   "execution_count": 121,
   "metadata": {},
   "outputs": [],
   "source": [
    "x = avocado.type.unique()"
   ]
  },
  {
   "cell_type": "code",
   "execution_count": 122,
   "metadata": {},
   "outputs": [
    {
     "output_type": "execute_result",
     "data": {
      "text/plain": "array(['conventional', 'organic'], dtype=object)"
     },
     "metadata": {},
     "execution_count": 122
    }
   ],
   "source": [
    "x"
   ]
  },
  {
   "cell_type": "code",
   "execution_count": 123,
   "metadata": {
    "tags": []
   },
   "outputs": [
    {
     "output_type": "stream",
     "name": "stdout",
     "text": "2\n"
    }
   ],
   "source": [
    "print (len(x))"
   ]
  },
  {
   "cell_type": "code",
   "execution_count": 126,
   "metadata": {},
   "outputs": [
    {
     "output_type": "execute_result",
     "data": {
      "text/plain": "array(['Albany', 'Atlanta', 'BaltimoreWashington', 'Boise', 'Boston',\n       'BuffaloRochester', 'California', 'Charlotte', 'Chicago',\n       'CincinnatiDayton', 'Columbus', 'DallasFtWorth', 'Denver',\n       'Detroit', 'GrandRapids', 'GreatLakes', 'HarrisburgScranton',\n       'HartfordSpringfield', 'Houston', 'Indianapolis', 'Jacksonville',\n       'LasVegas', 'LosAngeles', 'Louisville', 'MiamiFtLauderdale',\n       'Midsouth', 'Nashville', 'NewOrleansMobile', 'NewYork',\n       'Northeast', 'NorthernNewEngland', 'Orlando', 'Philadelphia',\n       'PhoenixTucson', 'Pittsburgh', 'Plains', 'Portland',\n       'RaleighGreensboro', 'RichmondNorfolk', 'Roanoke', 'Sacramento',\n       'SanDiego', 'SanFrancisco', 'Seattle', 'SouthCarolina',\n       'SouthCentral', 'Southeast', 'Spokane', 'StLouis', 'Syracuse',\n       'Tampa', 'TotalUS', 'West', 'WestTexNewMexico'], dtype=object)"
     },
     "metadata": {},
     "execution_count": 126
    }
   ],
   "source": [
    "y = avocado.region.unique()\n",
    "y"
   ]
  },
  {
   "cell_type": "code",
   "execution_count": 127,
   "metadata": {
    "tags": []
   },
   "outputs": [
    {
     "output_type": "stream",
     "name": "stdout",
     "text": "54\n"
    }
   ],
   "source": [
    "print (len(y))"
   ]
  },
  {
   "cell_type": "markdown",
   "metadata": {},
   "source": [
    "¿Qué número de ocurrencias tiene cada uno de estos valores únicos en la columna en que se encuentra? "
   ]
  },
  {
   "cell_type": "code",
   "execution_count": 130,
   "metadata": {
    "tags": []
   },
   "outputs": [
    {
     "output_type": "stream",
     "name": "stdout",
     "text": "conventional 12\norganic 7\n"
    }
   ],
   "source": [
    "for i in x:\n",
    "    print(i ,len(i))"
   ]
  },
  {
   "cell_type": "code",
   "execution_count": 129,
   "metadata": {
    "tags": []
   },
   "outputs": [
    {
     "output_type": "stream",
     "name": "stdout",
     "text": "Albany 6\nAtlanta 7\nBaltimoreWashington 19\nBoise 5\nBoston 6\nBuffaloRochester 16\nCalifornia 10\nCharlotte 9\nChicago 7\nCincinnatiDayton 16\nColumbus 8\nDallasFtWorth 13\nDenver 6\nDetroit 7\nGrandRapids 11\nGreatLakes 10\nHarrisburgScranton 18\nHartfordSpringfield 19\nHouston 7\nIndianapolis 12\nJacksonville 12\nLasVegas 8\nLosAngeles 10\nLouisville 10\nMiamiFtLauderdale 17\nMidsouth 8\nNashville 9\nNewOrleansMobile 16\nNewYork 7\nNortheast 9\nNorthernNewEngland 18\nOrlando 7\nPhiladelphia 12\nPhoenixTucson 13\nPittsburgh 10\nPlains 6\nPortland 8\nRaleighGreensboro 17\nRichmondNorfolk 15\nRoanoke 7\nSacramento 10\nSanDiego 8\nSanFrancisco 12\nSeattle 7\nSouthCarolina 13\nSouthCentral 12\nSoutheast 9\nSpokane 7\nStLouis 7\nSyracuse 8\nTampa 5\nTotalUS 7\nWest 4\nWestTexNewMexico 16\n"
    }
   ],
   "source": [
    "for i in y:\n",
    "    print(i ,len(i))"
   ]
  },
  {
   "cell_type": "markdown",
   "metadata": {},
   "source": [
    "Ahora que hemos explorado el dataframe, podemos empezar a trabajar con ello. En este caso, ordena el `index` de manera que la fecha **2015-01-04** quede arriba. "
   ]
  },
  {
   "cell_type": "code",
   "execution_count": 10,
   "metadata": {},
   "outputs": [],
   "source": []
  },
  {
   "cell_type": "markdown",
   "metadata": {},
   "source": [
    "Agrupa el dataframe `avocado` por tipo y quédate con el mínimo del resto de las columnas. "
   ]
  },
  {
   "cell_type": "code",
   "execution_count": 131,
   "metadata": {},
   "outputs": [
    {
     "output_type": "execute_result",
     "data": {
      "text/plain": "<bound method GroupBy.min of <pandas.core.groupby.generic.DataFrameGroupBy object at 0x118810be0>>"
     },
     "metadata": {},
     "execution_count": 131
    }
   ],
   "source": [
    "avocado.groupby(\"type\").min\n"
   ]
  },
  {
   "cell_type": "markdown",
   "metadata": {},
   "source": [
    "Además, queremos conocer el máximo de bolsas pequeñas, bolsas grandes y bolsas extragrandes de aguacates que se vendieron por año, por cada región. Crea un dataframe que se llame `group_bags` que muestre dicha información. "
   ]
  },
  {
   "cell_type": "code",
   "execution_count": 147,
   "metadata": {},
   "outputs": [
    {
     "output_type": "error",
     "ename": "SyntaxError",
     "evalue": "invalid syntax (<ipython-input-147-82ccb29dc105>, line 1)",
     "traceback": [
      "\u001b[0;36m  File \u001b[0;32m\"<ipython-input-147-82ccb29dc105>\"\u001b[0;36m, line \u001b[0;32m1\u001b[0m\n\u001b[0;31m    avocado.groupby(\"year\").[\"Small Bags\"].max()\u001b[0m\n\u001b[0m                            ^\u001b[0m\n\u001b[0;31mSyntaxError\u001b[0m\u001b[0;31m:\u001b[0m invalid syntax\n"
     ]
    }
   ],
   "source": [
    "avocado.groupby(\"year\").[\"Small Bags\"].max()\t"
   ]
  },
  {
   "cell_type": "code",
   "execution_count": 143,
   "metadata": {},
   "outputs": [
    {
     "output_type": "execute_result",
     "data": {
      "text/plain": "            AveragePrice  Total Volume     4046       4225    4770  \\\nDate                                                                 \n2015-12-27          1.33      64236.62  1036.74   54454.85   48.16   \n2015-12-20          1.35      54876.98   674.28   44638.81   58.33   \n2015-12-13          0.93     118220.22   794.70  109149.67  130.50   \n2015-12-06          1.08      78992.15  1132.00   71976.41   72.58   \n2015-11-29          1.28      51039.60   941.48   43838.39   75.78   \n...                  ...           ...      ...        ...     ...   \n2018-02-04          1.63      17074.83  2046.96    1529.20    0.00   \n2018-01-28          1.71      13888.04  1191.70    3431.50    0.00   \n2018-01-21          1.87      13766.76  1191.92    2452.79  727.94   \n2018-01-14          1.93      16205.22  1527.63    2981.04  727.01   \n2018-01-07          1.62      17489.58  2894.77    2356.13  224.53   \n\n            Total Bags  Small Bags  Large Bags  XLarge Bags          type  \\\nDate                                                                        \n2015-12-27     8696.87     8603.62       93.25          0.0  conventional   \n2015-12-20     9505.56     9408.07       97.49          0.0  conventional   \n2015-12-13     8145.35     8042.21      103.14          0.0  conventional   \n2015-12-06     5811.16     5677.40      133.76          0.0  conventional   \n2015-11-29     6183.95     5986.26      197.69          0.0  conventional   \n...                ...         ...         ...          ...           ...   \n2018-02-04    13498.67    13066.82      431.85          0.0       organic   \n2018-01-28     9264.84     8940.04      324.80          0.0       organic   \n2018-01-21     9394.11     9351.80       42.31          0.0       organic   \n2018-01-14    10969.54    10919.54       50.00          0.0       organic   \n2018-01-07    12014.15    11988.14       26.01          0.0       organic   \n\n            year            region  \nDate                                \n2015-12-27  2015            Albany  \n2015-12-20  2015            Albany  \n2015-12-13  2015            Albany  \n2015-12-06  2015            Albany  \n2015-11-29  2015            Albany  \n...          ...               ...  \n2018-02-04  2018  WestTexNewMexico  \n2018-01-28  2018  WestTexNewMexico  \n2018-01-21  2018  WestTexNewMexico  \n2018-01-14  2018  WestTexNewMexico  \n2018-01-07  2018  WestTexNewMexico  \n\n[18249 rows x 12 columns]",
      "text/html": "<div>\n<style scoped>\n    .dataframe tbody tr th:only-of-type {\n        vertical-align: middle;\n    }\n\n    .dataframe tbody tr th {\n        vertical-align: top;\n    }\n\n    .dataframe thead th {\n        text-align: right;\n    }\n</style>\n<table border=\"1\" class=\"dataframe\">\n  <thead>\n    <tr style=\"text-align: right;\">\n      <th></th>\n      <th>AveragePrice</th>\n      <th>Total Volume</th>\n      <th>4046</th>\n      <th>4225</th>\n      <th>4770</th>\n      <th>Total Bags</th>\n      <th>Small Bags</th>\n      <th>Large Bags</th>\n      <th>XLarge Bags</th>\n      <th>type</th>\n      <th>year</th>\n      <th>region</th>\n    </tr>\n    <tr>\n      <th>Date</th>\n      <th></th>\n      <th></th>\n      <th></th>\n      <th></th>\n      <th></th>\n      <th></th>\n      <th></th>\n      <th></th>\n      <th></th>\n      <th></th>\n      <th></th>\n      <th></th>\n    </tr>\n  </thead>\n  <tbody>\n    <tr>\n      <th>2015-12-27</th>\n      <td>1.33</td>\n      <td>64236.62</td>\n      <td>1036.74</td>\n      <td>54454.85</td>\n      <td>48.16</td>\n      <td>8696.87</td>\n      <td>8603.62</td>\n      <td>93.25</td>\n      <td>0.0</td>\n      <td>conventional</td>\n      <td>2015</td>\n      <td>Albany</td>\n    </tr>\n    <tr>\n      <th>2015-12-20</th>\n      <td>1.35</td>\n      <td>54876.98</td>\n      <td>674.28</td>\n      <td>44638.81</td>\n      <td>58.33</td>\n      <td>9505.56</td>\n      <td>9408.07</td>\n      <td>97.49</td>\n      <td>0.0</td>\n      <td>conventional</td>\n      <td>2015</td>\n      <td>Albany</td>\n    </tr>\n    <tr>\n      <th>2015-12-13</th>\n      <td>0.93</td>\n      <td>118220.22</td>\n      <td>794.70</td>\n      <td>109149.67</td>\n      <td>130.50</td>\n      <td>8145.35</td>\n      <td>8042.21</td>\n      <td>103.14</td>\n      <td>0.0</td>\n      <td>conventional</td>\n      <td>2015</td>\n      <td>Albany</td>\n    </tr>\n    <tr>\n      <th>2015-12-06</th>\n      <td>1.08</td>\n      <td>78992.15</td>\n      <td>1132.00</td>\n      <td>71976.41</td>\n      <td>72.58</td>\n      <td>5811.16</td>\n      <td>5677.40</td>\n      <td>133.76</td>\n      <td>0.0</td>\n      <td>conventional</td>\n      <td>2015</td>\n      <td>Albany</td>\n    </tr>\n    <tr>\n      <th>2015-11-29</th>\n      <td>1.28</td>\n      <td>51039.60</td>\n      <td>941.48</td>\n      <td>43838.39</td>\n      <td>75.78</td>\n      <td>6183.95</td>\n      <td>5986.26</td>\n      <td>197.69</td>\n      <td>0.0</td>\n      <td>conventional</td>\n      <td>2015</td>\n      <td>Albany</td>\n    </tr>\n    <tr>\n      <th>...</th>\n      <td>...</td>\n      <td>...</td>\n      <td>...</td>\n      <td>...</td>\n      <td>...</td>\n      <td>...</td>\n      <td>...</td>\n      <td>...</td>\n      <td>...</td>\n      <td>...</td>\n      <td>...</td>\n      <td>...</td>\n    </tr>\n    <tr>\n      <th>2018-02-04</th>\n      <td>1.63</td>\n      <td>17074.83</td>\n      <td>2046.96</td>\n      <td>1529.20</td>\n      <td>0.00</td>\n      <td>13498.67</td>\n      <td>13066.82</td>\n      <td>431.85</td>\n      <td>0.0</td>\n      <td>organic</td>\n      <td>2018</td>\n      <td>WestTexNewMexico</td>\n    </tr>\n    <tr>\n      <th>2018-01-28</th>\n      <td>1.71</td>\n      <td>13888.04</td>\n      <td>1191.70</td>\n      <td>3431.50</td>\n      <td>0.00</td>\n      <td>9264.84</td>\n      <td>8940.04</td>\n      <td>324.80</td>\n      <td>0.0</td>\n      <td>organic</td>\n      <td>2018</td>\n      <td>WestTexNewMexico</td>\n    </tr>\n    <tr>\n      <th>2018-01-21</th>\n      <td>1.87</td>\n      <td>13766.76</td>\n      <td>1191.92</td>\n      <td>2452.79</td>\n      <td>727.94</td>\n      <td>9394.11</td>\n      <td>9351.80</td>\n      <td>42.31</td>\n      <td>0.0</td>\n      <td>organic</td>\n      <td>2018</td>\n      <td>WestTexNewMexico</td>\n    </tr>\n    <tr>\n      <th>2018-01-14</th>\n      <td>1.93</td>\n      <td>16205.22</td>\n      <td>1527.63</td>\n      <td>2981.04</td>\n      <td>727.01</td>\n      <td>10969.54</td>\n      <td>10919.54</td>\n      <td>50.00</td>\n      <td>0.0</td>\n      <td>organic</td>\n      <td>2018</td>\n      <td>WestTexNewMexico</td>\n    </tr>\n    <tr>\n      <th>2018-01-07</th>\n      <td>1.62</td>\n      <td>17489.58</td>\n      <td>2894.77</td>\n      <td>2356.13</td>\n      <td>224.53</td>\n      <td>12014.15</td>\n      <td>11988.14</td>\n      <td>26.01</td>\n      <td>0.0</td>\n      <td>organic</td>\n      <td>2018</td>\n      <td>WestTexNewMexico</td>\n    </tr>\n  </tbody>\n</table>\n<p>18249 rows × 12 columns</p>\n</div>"
     },
     "metadata": {},
     "execution_count": 143
    }
   ],
   "source": [
    "avocado"
   ]
  },
  {
   "cell_type": "code",
   "execution_count": 12,
   "metadata": {},
   "outputs": [],
   "source": [
    "group_bags = avocado.groupby()"
   ]
  },
  {
   "cell_type": "markdown",
   "metadata": {},
   "source": [
    "A partir del dataframe `group_bags` muestra en qué año y en qué región se vendió el máximo número de bolsas pequeñas de aguacates. "
   ]
  },
  {
   "cell_type": "code",
   "execution_count": 14,
   "metadata": {},
   "outputs": [],
   "source": []
  },
  {
   "cell_type": "markdown",
   "metadata": {},
   "source": [
    "Asigna a la variable `avocado_months` el dataframe `avocado` agrupado por **meses** y por la media de los valores de cada columna. Hay dos maneras diferentes de resolver este ejercicio, sin embargo, con uno sería suficiente. \n",
    "\n",
    "Muestra solo los primeros 15 valores. "
   ]
  },
  {
   "cell_type": "code",
   "execution_count": 48,
   "metadata": {},
   "outputs": [],
   "source": [
    "avocado_months = avocado.resample('M').mean()"
   ]
  },
  {
   "cell_type": "code",
   "execution_count": 58,
   "metadata": {},
   "outputs": [
    {
     "output_type": "execute_result",
     "data": {
      "text/plain": "            AveragePrice   Total Volume           4046           4225  \\\nDate                                                                    \n2015-01-31      1.365046  736308.355532  296829.313565  301506.093912   \n2015-02-28      1.326944  839438.887106  354552.080000  334110.463727   \n2015-03-31      1.361981  775153.832907  324630.507778  299831.998981   \n2015-04-30      1.383449  796630.544329  348567.729491  291150.142593   \n2015-05-31      1.344685  895896.379241  394883.681407  330662.679722   \n2015-06-30      1.399074  883858.203032  374715.185903  317095.642338   \n2015-07-31      1.409444  825698.779236  326456.573750  321060.962685   \n2015-08-31      1.444481  776379.286704  300310.837796  321335.405667   \n2015-09-30      1.449144  762080.632060  247781.252500  356497.374190   \n2015-10-31      1.391968  707815.071806  214976.447894  331744.578704   \n2015-11-30      1.330611  684148.215537  230572.546722  292348.258463   \n2015-12-31      1.305244  686835.108794  230718.662738  268747.887401   \n2016-01-31      1.240185  880381.047370  248846.960093  354846.291574   \n2016-02-29      1.237106  992235.652731  303715.019931  372600.768704   \n2016-03-31      1.224213  905584.278426  276501.768171  330062.790810   \n2016-04-30      1.205023  930168.406921  296899.473704  321948.473310   \n\n                    4770     Total Bags     Small Bags    Large Bags  \\\nDate                                                                   \n2015-01-31  20635.684028  117337.264028   96502.584213  20513.634144   \n2015-02-28  24220.692431  126555.650949  106004.821690  20017.510602   \n2015-03-31  23068.926037  127622.400111  109589.476796  17325.542056   \n2015-04-30  22056.120440  134856.551806  114351.516134  19976.716250   \n2015-05-31  23923.426833  146426.591278  123510.636407  22365.188204   \n2015-06-30  28241.728264  163805.646528  140095.819745  22889.726667   \n2015-07-31  27713.835718  150467.386250  126518.964097  23135.342292   \n2015-08-31  25399.461870  129333.573963  109437.493519  18895.924852   \n2015-09-30  27756.865671  130045.139699  100038.074236  28664.317685   \n2015-10-31  32360.636991  128733.408218   99441.142894  28159.288125   \n2015-11-30  24339.130463  136888.279889  106598.555463  29190.574759   \n2015-12-31  26654.108329  160714.450325  125089.361833  32706.897680   \n2016-01-31  36216.326611  240471.469093  176353.023167  61009.767944   \n2016-02-29  44169.501713  271750.362384  199309.627477  69751.625301   \n2016-03-31  42992.560046  256027.159398  193483.747222  60488.572407   \n2016-04-30  41840.764861  269479.695046  200286.460347  67071.042153   \n\n            XLarge Bags  year  \nDate                           \n2015-01-31   321.045671  2015  \n2015-02-28   533.318657  2015  \n2015-03-31   707.381259  2015  \n2015-04-30   528.319421  2015  \n2015-05-31   550.766667  2015  \n2015-06-30   820.100116  2015  \n2015-07-31   813.075231  2015  \n2015-08-31  1000.153741  2015  \n2015-09-30  1342.747778  2015  \n2015-10-31  1132.977199  2015  \n2015-11-30  1099.149667  2015  \n2015-12-31  2918.190812  2015  \n2016-01-31  3108.677981  2016  \n2016-02-29  2689.109606  2016  \n2016-03-31  2054.839769  2016  \n2016-04-30  2122.192546  2016  ",
      "text/html": "<div>\n<style scoped>\n    .dataframe tbody tr th:only-of-type {\n        vertical-align: middle;\n    }\n\n    .dataframe tbody tr th {\n        vertical-align: top;\n    }\n\n    .dataframe thead th {\n        text-align: right;\n    }\n</style>\n<table border=\"1\" class=\"dataframe\">\n  <thead>\n    <tr style=\"text-align: right;\">\n      <th></th>\n      <th>AveragePrice</th>\n      <th>Total Volume</th>\n      <th>4046</th>\n      <th>4225</th>\n      <th>4770</th>\n      <th>Total Bags</th>\n      <th>Small Bags</th>\n      <th>Large Bags</th>\n      <th>XLarge Bags</th>\n      <th>year</th>\n    </tr>\n    <tr>\n      <th>Date</th>\n      <th></th>\n      <th></th>\n      <th></th>\n      <th></th>\n      <th></th>\n      <th></th>\n      <th></th>\n      <th></th>\n      <th></th>\n      <th></th>\n    </tr>\n  </thead>\n  <tbody>\n    <tr>\n      <th>2015-01-31</th>\n      <td>1.365046</td>\n      <td>736308.355532</td>\n      <td>296829.313565</td>\n      <td>301506.093912</td>\n      <td>20635.684028</td>\n      <td>117337.264028</td>\n      <td>96502.584213</td>\n      <td>20513.634144</td>\n      <td>321.045671</td>\n      <td>2015</td>\n    </tr>\n    <tr>\n      <th>2015-02-28</th>\n      <td>1.326944</td>\n      <td>839438.887106</td>\n      <td>354552.080000</td>\n      <td>334110.463727</td>\n      <td>24220.692431</td>\n      <td>126555.650949</td>\n      <td>106004.821690</td>\n      <td>20017.510602</td>\n      <td>533.318657</td>\n      <td>2015</td>\n    </tr>\n    <tr>\n      <th>2015-03-31</th>\n      <td>1.361981</td>\n      <td>775153.832907</td>\n      <td>324630.507778</td>\n      <td>299831.998981</td>\n      <td>23068.926037</td>\n      <td>127622.400111</td>\n      <td>109589.476796</td>\n      <td>17325.542056</td>\n      <td>707.381259</td>\n      <td>2015</td>\n    </tr>\n    <tr>\n      <th>2015-04-30</th>\n      <td>1.383449</td>\n      <td>796630.544329</td>\n      <td>348567.729491</td>\n      <td>291150.142593</td>\n      <td>22056.120440</td>\n      <td>134856.551806</td>\n      <td>114351.516134</td>\n      <td>19976.716250</td>\n      <td>528.319421</td>\n      <td>2015</td>\n    </tr>\n    <tr>\n      <th>2015-05-31</th>\n      <td>1.344685</td>\n      <td>895896.379241</td>\n      <td>394883.681407</td>\n      <td>330662.679722</td>\n      <td>23923.426833</td>\n      <td>146426.591278</td>\n      <td>123510.636407</td>\n      <td>22365.188204</td>\n      <td>550.766667</td>\n      <td>2015</td>\n    </tr>\n    <tr>\n      <th>2015-06-30</th>\n      <td>1.399074</td>\n      <td>883858.203032</td>\n      <td>374715.185903</td>\n      <td>317095.642338</td>\n      <td>28241.728264</td>\n      <td>163805.646528</td>\n      <td>140095.819745</td>\n      <td>22889.726667</td>\n      <td>820.100116</td>\n      <td>2015</td>\n    </tr>\n    <tr>\n      <th>2015-07-31</th>\n      <td>1.409444</td>\n      <td>825698.779236</td>\n      <td>326456.573750</td>\n      <td>321060.962685</td>\n      <td>27713.835718</td>\n      <td>150467.386250</td>\n      <td>126518.964097</td>\n      <td>23135.342292</td>\n      <td>813.075231</td>\n      <td>2015</td>\n    </tr>\n    <tr>\n      <th>2015-08-31</th>\n      <td>1.444481</td>\n      <td>776379.286704</td>\n      <td>300310.837796</td>\n      <td>321335.405667</td>\n      <td>25399.461870</td>\n      <td>129333.573963</td>\n      <td>109437.493519</td>\n      <td>18895.924852</td>\n      <td>1000.153741</td>\n      <td>2015</td>\n    </tr>\n    <tr>\n      <th>2015-09-30</th>\n      <td>1.449144</td>\n      <td>762080.632060</td>\n      <td>247781.252500</td>\n      <td>356497.374190</td>\n      <td>27756.865671</td>\n      <td>130045.139699</td>\n      <td>100038.074236</td>\n      <td>28664.317685</td>\n      <td>1342.747778</td>\n      <td>2015</td>\n    </tr>\n    <tr>\n      <th>2015-10-31</th>\n      <td>1.391968</td>\n      <td>707815.071806</td>\n      <td>214976.447894</td>\n      <td>331744.578704</td>\n      <td>32360.636991</td>\n      <td>128733.408218</td>\n      <td>99441.142894</td>\n      <td>28159.288125</td>\n      <td>1132.977199</td>\n      <td>2015</td>\n    </tr>\n    <tr>\n      <th>2015-11-30</th>\n      <td>1.330611</td>\n      <td>684148.215537</td>\n      <td>230572.546722</td>\n      <td>292348.258463</td>\n      <td>24339.130463</td>\n      <td>136888.279889</td>\n      <td>106598.555463</td>\n      <td>29190.574759</td>\n      <td>1099.149667</td>\n      <td>2015</td>\n    </tr>\n    <tr>\n      <th>2015-12-31</th>\n      <td>1.305244</td>\n      <td>686835.108794</td>\n      <td>230718.662738</td>\n      <td>268747.887401</td>\n      <td>26654.108329</td>\n      <td>160714.450325</td>\n      <td>125089.361833</td>\n      <td>32706.897680</td>\n      <td>2918.190812</td>\n      <td>2015</td>\n    </tr>\n    <tr>\n      <th>2016-01-31</th>\n      <td>1.240185</td>\n      <td>880381.047370</td>\n      <td>248846.960093</td>\n      <td>354846.291574</td>\n      <td>36216.326611</td>\n      <td>240471.469093</td>\n      <td>176353.023167</td>\n      <td>61009.767944</td>\n      <td>3108.677981</td>\n      <td>2016</td>\n    </tr>\n    <tr>\n      <th>2016-02-29</th>\n      <td>1.237106</td>\n      <td>992235.652731</td>\n      <td>303715.019931</td>\n      <td>372600.768704</td>\n      <td>44169.501713</td>\n      <td>271750.362384</td>\n      <td>199309.627477</td>\n      <td>69751.625301</td>\n      <td>2689.109606</td>\n      <td>2016</td>\n    </tr>\n    <tr>\n      <th>2016-03-31</th>\n      <td>1.224213</td>\n      <td>905584.278426</td>\n      <td>276501.768171</td>\n      <td>330062.790810</td>\n      <td>42992.560046</td>\n      <td>256027.159398</td>\n      <td>193483.747222</td>\n      <td>60488.572407</td>\n      <td>2054.839769</td>\n      <td>2016</td>\n    </tr>\n    <tr>\n      <th>2016-04-30</th>\n      <td>1.205023</td>\n      <td>930168.406921</td>\n      <td>296899.473704</td>\n      <td>321948.473310</td>\n      <td>41840.764861</td>\n      <td>269479.695046</td>\n      <td>200286.460347</td>\n      <td>67071.042153</td>\n      <td>2122.192546</td>\n      <td>2016</td>\n    </tr>\n  </tbody>\n</table>\n</div>"
     },
     "metadata": {},
     "execution_count": 58
    }
   ],
   "source": [
    "avocado_months.head(16)"
   ]
  },
  {
   "cell_type": "code",
   "execution_count": null,
   "metadata": {},
   "outputs": [],
   "source": [
    "avocado"
   ]
  },
  {
   "cell_type": "markdown",
   "metadata": {},
   "source": [
    "A partir de `avocado_months` calcula el precio máximo de los aguacates de los meses de enero. "
   ]
  },
  {
   "cell_type": "code",
   "execution_count": null,
   "metadata": {},
   "outputs": [],
   "source": [
    "year = monthly.resample('AS-JAN').sum()"
   ]
  },
  {
   "cell_type": "code",
   "execution_count": 52,
   "metadata": {},
   "outputs": [
    {
     "output_type": "execute_result",
     "data": {
      "text/plain": "<bound method Series.max of Date\n2015-01-31    1.365046\n2015-02-28    1.326944\n2015-03-31    1.361981\n2015-04-30    1.383449\n2015-05-31    1.344685\n2015-06-30    1.399074\n2015-07-31    1.409444\n2015-08-31    1.444481\n2015-09-30    1.449144\n2015-10-31    1.391968\n2015-11-30    1.330611\n2015-12-31    1.305244\n2016-01-31    1.240185\n2016-02-29    1.237106\n2016-03-31    1.224213\n2016-04-30    1.205023\n2016-05-31    1.199722\n2016-06-30    1.283056\n2016-07-31    1.401333\n2016-08-31    1.411111\n2016-09-30    1.427870\n2016-10-31    1.557093\n2016-11-30    1.550023\n2016-12-31    1.315995\n2017-01-31    1.277500\n2017-02-28    1.214792\n2017-03-31    1.398935\n2017-04-30    1.502611\n2017-05-31    1.532593\n2017-06-30    1.545395\n2017-07-31    1.564926\n2017-08-31    1.698958\n2017-09-30    1.840949\n2017-10-31    1.752444\n2017-11-30    1.517292\n2017-12-31    1.363852\n2018-01-31    1.387431\n2018-02-28    1.318704\n2018-03-31    1.336458\nFreq: M, Name: AveragePrice, dtype: float64>"
     },
     "metadata": {},
     "execution_count": 52
    }
   ],
   "source": [
    "avocado_months.AveragePrice.max"
   ]
  },
  {
   "cell_type": "markdown",
   "metadata": {},
   "source": [
    "Asigna a la variable `avocado_tri` el dataframe `avocado` agrupado por **trimestre** y el sumatorio de los valores de cada columna. "
   ]
  },
  {
   "cell_type": "code",
   "execution_count": 109,
   "metadata": {},
   "outputs": [],
   "source": [
    "avocado_tri = avocado.resample('q').sum()"
   ]
  },
  {
   "cell_type": "code",
   "execution_count": 110,
   "metadata": {},
   "outputs": [
    {
     "output_type": "execute_result",
     "data": {
      "text/plain": "            AveragePrice  Total Volume          4046          4225  \\\nDate                                                                 \n2015-03-31       1898.41  1.099306e+09  4.566972e+08  4.364956e+08   \n2015-06-30       1928.18  1.209755e+09  5.256954e+08  4.413200e+08   \n2015-09-30       2014.93  1.105166e+09  4.102386e+08  4.662263e+08   \n2015-12-31       1882.42  9.712421e+08  3.168187e+08  4.170121e+08   \n2016-03-31       1732.99  1.295264e+09  3.850310e+08  4.951677e+08   \n2016-06-30       1722.70  1.373391e+09  4.360864e+08  4.837823e+08   \n2016-09-30       1983.16  1.200376e+09  4.058025e+08  3.809667e+08   \n2016-12-31       2078.95  9.518589e+08  2.982030e+08  3.128116e+08   \n2017-03-31       1818.98  1.363704e+09  4.523391e+08  4.418313e+08   \n2017-06-30       2138.01  1.325956e+09  4.452622e+08  3.845312e+08   \n2017-09-30       2374.30  1.098016e+09  3.689541e+08  3.521750e+08   \n2017-12-31       2338.27  1.146630e+09  3.854827e+08  3.661972e+08   \n2018-03-31       1746.40  1.382738e+09  4.604997e+08  4.077587e+08   \n\n                   4770    Total Bags    Small Bags    Large Bags  \\\nDate                                                                \n2015-03-31  31835174.69  1.742778e+08  1.466615e+08  2.686525e+07   \n2015-06-30  34647321.13  2.080924e+08  1.766170e+08  3.059550e+07   \n2015-09-30  37679052.41  1.910215e+08  1.569689e+08  3.258125e+07   \n2015-12-31  38610846.32  1.988004e+08  1.544353e+08  4.202440e+07   \n2016-03-31  57210827.05  3.578545e+08  2.649174e+08  8.920904e+07   \n2016-06-30  58172982.04  3.953497e+08  2.949497e+08  9.408578e+07   \n2016-09-30  28142016.94  3.854644e+08  3.089260e+08  6.888170e+07   \n2016-12-31  16354018.98  3.244903e+08  2.377012e+08  8.444982e+07   \n2017-03-31  28524805.37  4.410084e+08  3.361744e+08  1.005306e+08   \n2017-06-30  23919667.08  4.722427e+08  3.494937e+08  1.148528e+08   \n2017-09-30  21378661.99  3.554933e+08  2.594651e+08  8.754855e+07   \n2017-12-31  17394373.34  3.775444e+08  2.778194e+08  9.640709e+07   \n2018-03-31  22932594.79  4.915359e+08  3.607414e+08  1.235840e+08   \n\n            XLarge Bags     year  \nDate                              \n2015-03-31    751071.27  2829060  \n2015-06-30    879931.24  2829060  \n2015-09-30   1471398.56  2829060  \n2015-12-31   2340727.21  2827045  \n2016-03-31   3728072.24  2830464  \n2016-06-30   6314245.81  2830464  \n2016-09-30   7656739.22  2830464  \n2016-12-31   2339227.57  2830464  \n2017-03-31   4303382.65  2831868  \n2017-06-30   7896174.51  2827834  \n2017-09-30   8479693.81  2831868  \n2017-12-31   3317921.37  3049704  \n2018-03-31   7210591.87  2615328  ",
      "text/html": "<div>\n<style scoped>\n    .dataframe tbody tr th:only-of-type {\n        vertical-align: middle;\n    }\n\n    .dataframe tbody tr th {\n        vertical-align: top;\n    }\n\n    .dataframe thead th {\n        text-align: right;\n    }\n</style>\n<table border=\"1\" class=\"dataframe\">\n  <thead>\n    <tr style=\"text-align: right;\">\n      <th></th>\n      <th>AveragePrice</th>\n      <th>Total Volume</th>\n      <th>4046</th>\n      <th>4225</th>\n      <th>4770</th>\n      <th>Total Bags</th>\n      <th>Small Bags</th>\n      <th>Large Bags</th>\n      <th>XLarge Bags</th>\n      <th>year</th>\n    </tr>\n    <tr>\n      <th>Date</th>\n      <th></th>\n      <th></th>\n      <th></th>\n      <th></th>\n      <th></th>\n      <th></th>\n      <th></th>\n      <th></th>\n      <th></th>\n      <th></th>\n    </tr>\n  </thead>\n  <tbody>\n    <tr>\n      <th>2015-03-31</th>\n      <td>1898.41</td>\n      <td>1.099306e+09</td>\n      <td>4.566972e+08</td>\n      <td>4.364956e+08</td>\n      <td>31835174.69</td>\n      <td>1.742778e+08</td>\n      <td>1.466615e+08</td>\n      <td>2.686525e+07</td>\n      <td>751071.27</td>\n      <td>2829060</td>\n    </tr>\n    <tr>\n      <th>2015-06-30</th>\n      <td>1928.18</td>\n      <td>1.209755e+09</td>\n      <td>5.256954e+08</td>\n      <td>4.413200e+08</td>\n      <td>34647321.13</td>\n      <td>2.080924e+08</td>\n      <td>1.766170e+08</td>\n      <td>3.059550e+07</td>\n      <td>879931.24</td>\n      <td>2829060</td>\n    </tr>\n    <tr>\n      <th>2015-09-30</th>\n      <td>2014.93</td>\n      <td>1.105166e+09</td>\n      <td>4.102386e+08</td>\n      <td>4.662263e+08</td>\n      <td>37679052.41</td>\n      <td>1.910215e+08</td>\n      <td>1.569689e+08</td>\n      <td>3.258125e+07</td>\n      <td>1471398.56</td>\n      <td>2829060</td>\n    </tr>\n    <tr>\n      <th>2015-12-31</th>\n      <td>1882.42</td>\n      <td>9.712421e+08</td>\n      <td>3.168187e+08</td>\n      <td>4.170121e+08</td>\n      <td>38610846.32</td>\n      <td>1.988004e+08</td>\n      <td>1.544353e+08</td>\n      <td>4.202440e+07</td>\n      <td>2340727.21</td>\n      <td>2827045</td>\n    </tr>\n    <tr>\n      <th>2016-03-31</th>\n      <td>1732.99</td>\n      <td>1.295264e+09</td>\n      <td>3.850310e+08</td>\n      <td>4.951677e+08</td>\n      <td>57210827.05</td>\n      <td>3.578545e+08</td>\n      <td>2.649174e+08</td>\n      <td>8.920904e+07</td>\n      <td>3728072.24</td>\n      <td>2830464</td>\n    </tr>\n    <tr>\n      <th>2016-06-30</th>\n      <td>1722.70</td>\n      <td>1.373391e+09</td>\n      <td>4.360864e+08</td>\n      <td>4.837823e+08</td>\n      <td>58172982.04</td>\n      <td>3.953497e+08</td>\n      <td>2.949497e+08</td>\n      <td>9.408578e+07</td>\n      <td>6314245.81</td>\n      <td>2830464</td>\n    </tr>\n    <tr>\n      <th>2016-09-30</th>\n      <td>1983.16</td>\n      <td>1.200376e+09</td>\n      <td>4.058025e+08</td>\n      <td>3.809667e+08</td>\n      <td>28142016.94</td>\n      <td>3.854644e+08</td>\n      <td>3.089260e+08</td>\n      <td>6.888170e+07</td>\n      <td>7656739.22</td>\n      <td>2830464</td>\n    </tr>\n    <tr>\n      <th>2016-12-31</th>\n      <td>2078.95</td>\n      <td>9.518589e+08</td>\n      <td>2.982030e+08</td>\n      <td>3.128116e+08</td>\n      <td>16354018.98</td>\n      <td>3.244903e+08</td>\n      <td>2.377012e+08</td>\n      <td>8.444982e+07</td>\n      <td>2339227.57</td>\n      <td>2830464</td>\n    </tr>\n    <tr>\n      <th>2017-03-31</th>\n      <td>1818.98</td>\n      <td>1.363704e+09</td>\n      <td>4.523391e+08</td>\n      <td>4.418313e+08</td>\n      <td>28524805.37</td>\n      <td>4.410084e+08</td>\n      <td>3.361744e+08</td>\n      <td>1.005306e+08</td>\n      <td>4303382.65</td>\n      <td>2831868</td>\n    </tr>\n    <tr>\n      <th>2017-06-30</th>\n      <td>2138.01</td>\n      <td>1.325956e+09</td>\n      <td>4.452622e+08</td>\n      <td>3.845312e+08</td>\n      <td>23919667.08</td>\n      <td>4.722427e+08</td>\n      <td>3.494937e+08</td>\n      <td>1.148528e+08</td>\n      <td>7896174.51</td>\n      <td>2827834</td>\n    </tr>\n    <tr>\n      <th>2017-09-30</th>\n      <td>2374.30</td>\n      <td>1.098016e+09</td>\n      <td>3.689541e+08</td>\n      <td>3.521750e+08</td>\n      <td>21378661.99</td>\n      <td>3.554933e+08</td>\n      <td>2.594651e+08</td>\n      <td>8.754855e+07</td>\n      <td>8479693.81</td>\n      <td>2831868</td>\n    </tr>\n    <tr>\n      <th>2017-12-31</th>\n      <td>2338.27</td>\n      <td>1.146630e+09</td>\n      <td>3.854827e+08</td>\n      <td>3.661972e+08</td>\n      <td>17394373.34</td>\n      <td>3.775444e+08</td>\n      <td>2.778194e+08</td>\n      <td>9.640709e+07</td>\n      <td>3317921.37</td>\n      <td>3049704</td>\n    </tr>\n    <tr>\n      <th>2018-03-31</th>\n      <td>1746.40</td>\n      <td>1.382738e+09</td>\n      <td>4.604997e+08</td>\n      <td>4.077587e+08</td>\n      <td>22932594.79</td>\n      <td>4.915359e+08</td>\n      <td>3.607414e+08</td>\n      <td>1.235840e+08</td>\n      <td>7210591.87</td>\n      <td>2615328</td>\n    </tr>\n  </tbody>\n</table>\n</div>"
     },
     "metadata": {},
     "execution_count": 110
    }
   ],
   "source": [
    "avocado_tri"
   ]
  },
  {
   "cell_type": "markdown",
   "metadata": {},
   "source": [
    "Crea un subset de `avocado` en el que solo se incluyan las siguientes columnas: `\"AveragePrice\"`,`\"Total Volume\"`,`\"type\"`,`\"year\"` y `\"region\"`, llámalo `avo_subset`."
   ]
  },
  {
   "cell_type": "code",
   "execution_count": 111,
   "metadata": {},
   "outputs": [],
   "source": [
    "avo_subset = avocado[[\"AveragePrice\",\"Total Volume\",\"type\",\"year\", \"region\"]]"
   ]
  },
  {
   "cell_type": "code",
   "execution_count": 61,
   "metadata": {},
   "outputs": [
    {
     "output_type": "execute_result",
     "data": {
      "text/plain": "            AveragePrice  Total Volume          type  year            region\nDate                                                                        \n2015-12-27          1.33      64236.62  conventional  2015            Albany\n2015-12-20          1.35      54876.98  conventional  2015            Albany\n2015-12-13          0.93     118220.22  conventional  2015            Albany\n2015-12-06          1.08      78992.15  conventional  2015            Albany\n2015-11-29          1.28      51039.60  conventional  2015            Albany\n...                  ...           ...           ...   ...               ...\n2018-02-04          1.63      17074.83       organic  2018  WestTexNewMexico\n2018-01-28          1.71      13888.04       organic  2018  WestTexNewMexico\n2018-01-21          1.87      13766.76       organic  2018  WestTexNewMexico\n2018-01-14          1.93      16205.22       organic  2018  WestTexNewMexico\n2018-01-07          1.62      17489.58       organic  2018  WestTexNewMexico\n\n[18249 rows x 5 columns]",
      "text/html": "<div>\n<style scoped>\n    .dataframe tbody tr th:only-of-type {\n        vertical-align: middle;\n    }\n\n    .dataframe tbody tr th {\n        vertical-align: top;\n    }\n\n    .dataframe thead th {\n        text-align: right;\n    }\n</style>\n<table border=\"1\" class=\"dataframe\">\n  <thead>\n    <tr style=\"text-align: right;\">\n      <th></th>\n      <th>AveragePrice</th>\n      <th>Total Volume</th>\n      <th>type</th>\n      <th>year</th>\n      <th>region</th>\n    </tr>\n    <tr>\n      <th>Date</th>\n      <th></th>\n      <th></th>\n      <th></th>\n      <th></th>\n      <th></th>\n    </tr>\n  </thead>\n  <tbody>\n    <tr>\n      <th>2015-12-27</th>\n      <td>1.33</td>\n      <td>64236.62</td>\n      <td>conventional</td>\n      <td>2015</td>\n      <td>Albany</td>\n    </tr>\n    <tr>\n      <th>2015-12-20</th>\n      <td>1.35</td>\n      <td>54876.98</td>\n      <td>conventional</td>\n      <td>2015</td>\n      <td>Albany</td>\n    </tr>\n    <tr>\n      <th>2015-12-13</th>\n      <td>0.93</td>\n      <td>118220.22</td>\n      <td>conventional</td>\n      <td>2015</td>\n      <td>Albany</td>\n    </tr>\n    <tr>\n      <th>2015-12-06</th>\n      <td>1.08</td>\n      <td>78992.15</td>\n      <td>conventional</td>\n      <td>2015</td>\n      <td>Albany</td>\n    </tr>\n    <tr>\n      <th>2015-11-29</th>\n      <td>1.28</td>\n      <td>51039.60</td>\n      <td>conventional</td>\n      <td>2015</td>\n      <td>Albany</td>\n    </tr>\n    <tr>\n      <th>...</th>\n      <td>...</td>\n      <td>...</td>\n      <td>...</td>\n      <td>...</td>\n      <td>...</td>\n    </tr>\n    <tr>\n      <th>2018-02-04</th>\n      <td>1.63</td>\n      <td>17074.83</td>\n      <td>organic</td>\n      <td>2018</td>\n      <td>WestTexNewMexico</td>\n    </tr>\n    <tr>\n      <th>2018-01-28</th>\n      <td>1.71</td>\n      <td>13888.04</td>\n      <td>organic</td>\n      <td>2018</td>\n      <td>WestTexNewMexico</td>\n    </tr>\n    <tr>\n      <th>2018-01-21</th>\n      <td>1.87</td>\n      <td>13766.76</td>\n      <td>organic</td>\n      <td>2018</td>\n      <td>WestTexNewMexico</td>\n    </tr>\n    <tr>\n      <th>2018-01-14</th>\n      <td>1.93</td>\n      <td>16205.22</td>\n      <td>organic</td>\n      <td>2018</td>\n      <td>WestTexNewMexico</td>\n    </tr>\n    <tr>\n      <th>2018-01-07</th>\n      <td>1.62</td>\n      <td>17489.58</td>\n      <td>organic</td>\n      <td>2018</td>\n      <td>WestTexNewMexico</td>\n    </tr>\n  </tbody>\n</table>\n<p>18249 rows × 5 columns</p>\n</div>"
     },
     "metadata": {},
     "execution_count": 61
    }
   ],
   "source": [
    "avo_subset"
   ]
  },
  {
   "cell_type": "markdown",
   "metadata": {},
   "source": [
    "Filtra el dataframe `avo_subset` de modo que muestre solo aquellos datos de los aguacates tipo organic en la region de California durante el año 2017. Llama a la variable `org_Cal`. "
   ]
  },
  {
   "cell_type": "code",
   "execution_count": 155,
   "metadata": {},
   "outputs": [
    {
     "output_type": "error",
     "ename": "TypeError",
     "evalue": "'str' object is not callable",
     "traceback": [
      "\u001b[0;31m---------------------------------------------------------------------------\u001b[0m",
      "\u001b[0;31mTypeError\u001b[0m                                 Traceback (most recent call last)",
      "\u001b[0;32m<ipython-input-155-bd99386de738>\u001b[0m in \u001b[0;36m<module>\u001b[0;34m\u001b[0m\n\u001b[0;32m----> 1\u001b[0;31m \u001b[0morg_Cal\u001b[0m \u001b[0;34m=\u001b[0m \u001b[0mavo_subset\u001b[0m\u001b[0;34m.\u001b[0m\u001b[0mgroupby\u001b[0m\u001b[0;34m[\u001b[0m\u001b[0;34m\"type\"\u001b[0m\u001b[0;34m(\u001b[0m\u001b[0;34m\"organic\"\u001b[0m\u001b[0;34m)\u001b[0m\u001b[0;34m]\u001b[0m\u001b[0;34m\u001b[0m\u001b[0;34m\u001b[0m\u001b[0m\n\u001b[0m",
      "\u001b[0;31mTypeError\u001b[0m: 'str' object is not callable"
     ]
    }
   ],
   "source": [
    "org_Cal = avo_subset.groupby[\"type\"(\"organic\")]"
   ]
  },
  {
   "cell_type": "code",
   "execution_count": 141,
   "metadata": {},
   "outputs": [],
   "source": [
    "org_Cal = avo_subset.groupby('type')\n"
   ]
  },
  {
   "cell_type": "code",
   "execution_count": 142,
   "metadata": {},
   "outputs": [
    {
     "output_type": "execute_result",
     "data": {
      "text/plain": "<pandas.core.groupby.generic.DataFrameGroupBy object at 0x118bfd610>"
     },
     "metadata": {},
     "execution_count": 142
    }
   ],
   "source": [
    "org_Cal"
   ]
  },
  {
   "cell_type": "markdown",
   "metadata": {},
   "source": [
    "Usando `org_Cal` saca la mediana del volumen total. "
   ]
  },
  {
   "cell_type": "code",
   "execution_count": 117,
   "metadata": {},
   "outputs": [
    {
     "output_type": "error",
     "ename": "NameError",
     "evalue": "name 'org_Cal' is not defined",
     "traceback": [
      "\u001b[0;31m---------------------------------------------------------------------------\u001b[0m",
      "\u001b[0;31mNameError\u001b[0m                                 Traceback (most recent call last)",
      "\u001b[0;32m<ipython-input-117-caadb4f814b4>\u001b[0m in \u001b[0;36m<module>\u001b[0;34m\u001b[0m\n\u001b[0;32m----> 1\u001b[0;31m \u001b[0morg_Cal\u001b[0m\u001b[0;34m.\u001b[0m\u001b[0mmedian\u001b[0m\u001b[0;34m\u001b[0m\u001b[0;34m\u001b[0m\u001b[0m\n\u001b[0m",
      "\u001b[0;31mNameError\u001b[0m: name 'org_Cal' is not defined"
     ]
    }
   ],
   "source": [
    "org_Cal.median\n"
   ]
  },
  {
   "cell_type": "markdown",
   "metadata": {},
   "source": [
    "¿Qué precio medio había el día que el volumen total fue igual a la mediana de la mencionada columna, `\"Total Volume\"`? "
   ]
  },
  {
   "cell_type": "code",
   "execution_count": 22,
   "metadata": {},
   "outputs": [],
   "source": [
    "# your code here"
   ]
  },
  {
   "cell_type": "markdown",
   "metadata": {},
   "source": [
    "Muestra la evolución del precio medio, `\"AveragePrice\"`, de los aguacates de tipo orgánicos de California durante el año 2017 con un gráfico de una línea, usando `org_Cal`. "
   ]
  },
  {
   "cell_type": "code",
   "execution_count": 23,
   "metadata": {},
   "outputs": [],
   "source": [
    "# your code here"
   ]
  },
  {
   "cell_type": "markdown",
   "metadata": {},
   "source": [
    "A partir del subset `avo_subset` trata de sacar un gráfico en el que se pueda observar la cantidad de aguacates de tipo **conventional**, a lo largo de todos los periodos. \n",
    "\n",
    "Haz un gráfico simple usando la librería **pandas**. "
   ]
  },
  {
   "cell_type": "code",
   "execution_count": 24,
   "metadata": {},
   "outputs": [],
   "source": [
    "# your code here"
   ]
  },
  {
   "cell_type": "markdown",
   "metadata": {},
   "source": [
    "Crea una función **lambda** que quite los dos primeros dígitos de cada año de la columna `\"year\"` y lo convierta a string. \n",
    "Después aplica esta función a toda la columna del dataframe `avo_subset`. \n",
    "\n",
    "Ejemplo: `2015` --> `\"15\"` "
   ]
  },
  {
   "cell_type": "code",
   "execution_count": 25,
   "metadata": {},
   "outputs": [],
   "source": [
    "# your code here"
   ]
  },
  {
   "cell_type": "markdown",
   "metadata": {},
   "source": [
    "# ¡Ya tienes un 10!"
   ]
  },
  {
   "cell_type": "markdown",
   "metadata": {},
   "source": [
    "**No te conformes y si te sobra tiempo, ve a por el 11 o si no, recupera algún puntito si algún ejercicio se te ha quedado atascado. ¡Otra oportunidad!**"
   ]
  },
  {
   "cell_type": "markdown",
   "metadata": {},
   "source": [
    "En esta misma carpeta encontrarás un archivo llamado `supermarket_region.csv`, asígnalo a la variable `supermarket` y muestra los primeros 5 filas. \n",
    "\n"
   ]
  },
  {
   "cell_type": "code",
   "execution_count": 119,
   "metadata": {},
   "outputs": [
    {
     "output_type": "execute_result",
     "data": {
      "text/plain": "                region                                            Address  \\\n0             Midsouth                                                  0   \n1        DallasFtWorth  2025 Fort Worth Ave, Dallas, TX 75208, Estados...   \n2              Detroit    575 Brush St, Detroit, MI 48226, Estados Unidos   \n3  HartfordSpringfield  1106 Union St, West Springfield, MA 01089, Est...   \n4                Tampa  8401 N Armenia Ave, Tampa, FL 33604, Estados U...   \n\n                 Supermarket Name  \n0                               0  \n1   Elrod's Cost Plus Supermarket  \n2                     City Market  \n3  Price Rite of West Springfield  \n4              Quadro Supermarket  ",
      "text/html": "<div>\n<style scoped>\n    .dataframe tbody tr th:only-of-type {\n        vertical-align: middle;\n    }\n\n    .dataframe tbody tr th {\n        vertical-align: top;\n    }\n\n    .dataframe thead th {\n        text-align: right;\n    }\n</style>\n<table border=\"1\" class=\"dataframe\">\n  <thead>\n    <tr style=\"text-align: right;\">\n      <th></th>\n      <th>region</th>\n      <th>Address</th>\n      <th>Supermarket Name</th>\n    </tr>\n  </thead>\n  <tbody>\n    <tr>\n      <th>0</th>\n      <td>Midsouth</td>\n      <td>0</td>\n      <td>0</td>\n    </tr>\n    <tr>\n      <th>1</th>\n      <td>DallasFtWorth</td>\n      <td>2025 Fort Worth Ave, Dallas, TX 75208, Estados...</td>\n      <td>Elrod's Cost Plus Supermarket</td>\n    </tr>\n    <tr>\n      <th>2</th>\n      <td>Detroit</td>\n      <td>575 Brush St, Detroit, MI 48226, Estados Unidos</td>\n      <td>City Market</td>\n    </tr>\n    <tr>\n      <th>3</th>\n      <td>HartfordSpringfield</td>\n      <td>1106 Union St, West Springfield, MA 01089, Est...</td>\n      <td>Price Rite of West Springfield</td>\n    </tr>\n    <tr>\n      <th>4</th>\n      <td>Tampa</td>\n      <td>8401 N Armenia Ave, Tampa, FL 33604, Estados U...</td>\n      <td>Quadro Supermarket</td>\n    </tr>\n  </tbody>\n</table>\n</div>"
     },
     "metadata": {},
     "execution_count": 119
    }
   ],
   "source": [
    "supermarket= pd.read_csv(\"supermarket_region.csv\")\n",
    "supermarket.head()"
   ]
  },
  {
   "cell_type": "markdown",
   "metadata": {},
   "source": [
    "El dataframe `supermarket` y `avo_subset` tienen una columna en común que es `region`, sabiendo esto, utiliza el método adecuado para unir ambos dataframes en uno llamado `avo_merged`. \n",
    "\n",
    "Si lo has hecho bien, no debería salir ningún **null**. "
   ]
  },
  {
   "cell_type": "code",
   "execution_count": 27,
   "metadata": {},
   "outputs": [],
   "source": [
    "avo_merged = "
   ]
  },
  {
   "cell_type": "markdown",
   "metadata": {},
   "source": [
    "Guarda `avo_merged` como un `.json` usando la función de **pandas** correspondiente, el nombre del archivo deberá ser `\"avo_merged.json\"`. "
   ]
  },
  {
   "cell_type": "code",
   "execution_count": 28,
   "metadata": {},
   "outputs": [],
   "source": [
    "# your code here"
   ]
  }
 ],
 "metadata": {
  "kernelspec": {
   "display_name": "Python 3.8.3 64-bit",
   "language": "python",
   "name": "python_defaultSpec_1596093380712"
  },
  "language_info": {
   "codemirror_mode": {
    "name": "ipython",
    "version": 3
   },
   "file_extension": ".py",
   "mimetype": "text/x-python",
   "name": "python",
   "nbconvert_exporter": "python",
   "pygments_lexer": "ipython3",
   "version": "3.8.3"
  }
 },
 "nbformat": 4,
 "nbformat_minor": 4
}