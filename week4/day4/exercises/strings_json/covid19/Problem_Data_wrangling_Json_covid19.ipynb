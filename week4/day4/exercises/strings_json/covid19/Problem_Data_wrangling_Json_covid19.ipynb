{
 "cells": [
  {
   "cell_type": "markdown",
   "metadata": {},
   "source": [
    "## Working on Jsons"
   ]
  },
  {
   "cell_type": "code",
   "execution_count": 1,
   "metadata": {},
   "outputs": [],
   "source": [
    "import requests\n",
    "import json\n",
    "import pandas as pd"
   ]
  },
  {
   "cell_type": "code",
   "execution_count": 2,
   "metadata": {
    "tags": []
   },
   "outputs": [],
   "source": [
    "r = requests.get(url='https://covid19tracking.narrativa.com/feed_en.json')\n",
    "json_readed = json.loads(r.text)\n"
   ]
  },
  {
   "cell_type": "markdown",
   "metadata": {
    "tags": [
     "outputPrepend"
    ]
   },
   "source": []
  },
  {
   "cell_type": "markdown",
   "metadata": {},
   "source": [
    "Save json in a local file called \"data.json\""
   ]
  },
  {
   "cell_type": "code",
   "execution_count": 3,
   "metadata": {},
   "outputs": [],
   "source": [
    "with open('data.json', 'w+') as outfile:\n",
    "    json.dump(json_readed, outfile)"
   ]
  },
  {
   "cell_type": "code",
   "execution_count": null,
   "metadata": {
    "tags": [
     "outputPrepend"
    ]
   },
   "outputs": [],
   "source": [
    "\"\"\"with open('data.json') as f:\n",
    "    line = f.readline()\n",
    "    if line:\n",
    "        print(line)\n",
    "        line = f.readline()\n",
    "print(line)\"\"\""
   ]
  },
  {
   "cell_type": "markdown",
   "metadata": {},
   "source": [
    "Save with indent"
   ]
  },
  {
   "cell_type": "code",
   "execution_count": 4,
   "metadata": {},
   "outputs": [],
   "source": [
    "with open('data_indented.json', 'w+') as outfile:\n",
    "    json.dump(json_readed, outfile, indent=4)"
   ]
  },
  {
   "cell_type": "markdown",
   "metadata": {},
   "source": [
    "Read local json\n"
   ]
  },
  {
   "cell_type": "code",
   "execution_count": 5,
   "metadata": {},
   "outputs": [],
   "source": [
    "with open('data_indented.json', 'r+') as outfile:\n",
    "    json_readed = json.load(outfile)\n"
   ]
  },
  {
   "cell_type": "code",
   "execution_count": 7,
   "metadata": {},
   "outputs": [
    {
     "output_type": "execute_result",
     "data": {
      "text/plain": "                                                   data\npost  [{'date': '2020-07-12T19:02:05+02:00', 'metada...",
      "text/html": "<div>\n<style scoped>\n    .dataframe tbody tr th:only-of-type {\n        vertical-align: middle;\n    }\n\n    .dataframe tbody tr th {\n        vertical-align: top;\n    }\n\n    .dataframe thead th {\n        text-align: right;\n    }\n</style>\n<table border=\"1\" class=\"dataframe\">\n  <thead>\n    <tr style=\"text-align: right;\">\n      <th></th>\n      <th>data</th>\n    </tr>\n  </thead>\n  <tbody>\n    <tr>\n      <th>post</th>\n      <td>[{'date': '2020-07-12T19:02:05+02:00', 'metada...</td>\n    </tr>\n  </tbody>\n</table>\n</div>"
     },
     "metadata": {},
     "execution_count": 7
    }
   ],
   "source": [
    "df_json = pd.read_json(\"data_indented.json\")\n",
    "df_json"
   ]
  },
  {
   "cell_type": "markdown",
   "metadata": {},
   "source": [
    "### Data Mining & Data Wrangling\n",
    "As you can see, there are jsons inside the original json. For that, we have to mining the json (data mining) to be able to use it correctly (data wrangling). \n",
    "\n",
    "How do you solve this issue? Research about this and try a solution. "
   ]
  },
  {
   "cell_type": "code",
   "execution_count": 8,
   "metadata": {
    "tags": []
   },
   "outputs": [
    {
     "output_type": "stream",
     "name": "stdout",
     "text": "Index(['post'], dtype='object')\n"
    }
   ],
   "source": [
    "print(df_json.index)"
   ]
  },
  {
   "cell_type": "code",
   "execution_count": 10,
   "metadata": {
    "tags": []
   },
   "outputs": [
    {
     "output_type": "stream",
     "name": "stdout",
     "text": "Index(['data'], dtype='object')\n"
    }
   ],
   "source": [
    "print(df_json.columns)\n"
   ]
  },
  {
   "cell_type": "code",
   "execution_count": 11,
   "metadata": {},
   "outputs": [],
   "source": [
    "with open(\"data_indented.json\", \"r+\") as outfile:\n",
    "\n",
    "    json_readed = json.load(outfile)\n",
    "    data_json_list = json_readed[\"data\"]\n",
    " "
   ]
  },
  {
   "cell_type": "code",
   "execution_count": 15,
   "metadata": {},
   "outputs": [],
   "source": [
    "# Vuelco los datos de la variable data_json_list en el nuevo archivo final_data.json\n",
    "    \n",
    "with open('final_data.json', 'w+') as outfile:\n",
    "    json.dump(data_json_list, outfile, indent=4)"
   ]
  },
  {
   "cell_type": "code",
   "execution_count": 16,
   "metadata": {},
   "outputs": [],
   "source": [
    "# Convierto el archivo final_data.json en dataframe y lo meto en la variable df_data_json\n",
    "\n",
    "df_data_json = pd.read_json(\"final_data.json\")\n"
   ]
  },
  {
   "cell_type": "code",
   "execution_count": 17,
   "metadata": {
    "tags": []
   },
   "outputs": [
    {
     "output_type": "stream",
     "name": "stdout",
     "text": "post\n0    {'date': '2020-07-12T19:02:05+02:00', 'metadat...\n1    {'date': '2020-07-12T18:03:06+02:00', 'metadat...\n2    {'date': '2020-07-12T17:05:34+02:00', 'metadat...\n3    {'date': '2020-07-12T16:02:56+02:00', 'metadat...\n4    {'date': '2020-07-12T15:09:59+02:00', 'metadat...\n..                                                 ...\n995  {'date': '2020-05-27T21:04:34+02:00', 'metadat...\n996  {'date': '2020-05-27T20:01:33+02:00', 'metadat...\n997  {'date': '2020-05-27T19:02:24+02:00', 'metadat...\n998  {'date': '2020-05-27T18:15:20+02:00', 'metadat...\n999  {'date': '2020-05-27T17:21:37+02:00', 'metadat...\n\n[1000 rows x 1 columns]\n"
    }
   ],
   "source": [
    "print(df_data_json)"
   ]
  },
  {
   "cell_type": "code",
   "execution_count": 18,
   "metadata": {},
   "outputs": [],
   "source": [
    "# Hago la misma operación pero ahora con la serie post.\n",
    "\n",
    "with open(\"final_data.json\", \"r+\") as outfile:\n",
    "        json_readed = json.load(outfile)\n",
    "        post_json_list = json_readed[\"post\"]\n",
    "        "
   ]
  },
  {
   "cell_type": "markdown",
   "metadata": {},
   "source": []
  },
  {
   "cell_type": "code",
   "execution_count": 23,
   "metadata": {},
   "outputs": [
    {
     "output_type": "execute_result",
     "data": {
      "text/plain": "\"with open('final_data.json', 'w+') as outfile:\\n    json.dump(post_json_list, outfile, indent=4)\""
     },
     "metadata": {},
     "execution_count": 23
    }
   ],
   "source": [
    "# Reescribo el archivo final_data.json con los datos de la variable post_json_list (que contiene los datos de la serie \"post\")\n",
    "    \n",
    "with open('final_data.json', 'w+') as outfile:\n",
    "    json.dump(post_json_list, outfile, indent=4)"
   ]
  },
  {
   "cell_type": "markdown",
   "metadata": {
    "tags": [
     "outputPrepend"
    ]
   },
   "source": [
    "print(post_json_list)"
   ]
  },
  {
   "cell_type": "code",
   "execution_count": 25,
   "metadata": {},
   "outputs": [
    {
     "output_type": "execute_result",
     "data": {
      "text/plain": "                         date  \\\n0   2020-07-12 19:02:05+02:00   \n1   2020-07-12 18:03:06+02:00   \n2   2020-07-12 17:05:34+02:00   \n3   2020-07-12 16:02:56+02:00   \n4   2020-07-12 15:09:59+02:00   \n..                        ...   \n995 2020-05-27 21:04:34+02:00   \n996 2020-05-27 20:01:33+02:00   \n997 2020-05-27 19:02:24+02:00   \n998 2020-05-27 18:15:20+02:00   \n999 2020-05-27 17:21:37+02:00   \n\n                                              metadata     author  \\\n0    {'picurl_square_spain': 'https://4i2g925ohj.ex...  Narrativa   \n1    {'picurl_square_spain': 'https://4i2g925ohj.ex...  Narrativa   \n2    {'picurl_square_spain': 'https://4i2g925ohj.ex...  Narrativa   \n3    {'picurl_square_spain': 'https://4i2g925ohj.ex...  Narrativa   \n4    {'picurl_square_spain': 'https://4i2g925ohj.ex...  Narrativa   \n..                                                 ...        ...   \n995  {'picurl_square_spain': 'https://4i2g925ohj.ex...  Narrativa   \n996  {'picurl_square_spain': 'https://4i2g925ohj.ex...  Narrativa   \n997  {'picurl_square_spain': 'https://4i2g925ohj.ex...  Narrativa   \n998  {'picurl_square_spain': 'https://4i2g925ohj.ex...  Narrativa   \n999  {'picurl_square_spain': 'https://4i2g925ohj.ex...  Narrativa   \n\n                                   _rev    language  \\\n0    1-f30f88e8c14c2945960be8d62cd59391  en_generic   \n1    1-85ac9d8186a6d4e9c59813adc6e51b14  en_generic   \n2    1-f9e374f9a9ae40c10ccaba9257edf269  en_generic   \n3    1-5050fc44dd82faaa5516f5e8a3acaa03  en_generic   \n4    1-cecd14f4856016af54644b482ba16306  en_generic   \n..                                  ...         ...   \n995  1-f815f865001d89f33754818a7254b210  en_generic   \n996  1-da5c65c1953988bec8deebdf59a544f7  en_generic   \n997  1-bfd9fc0ba796d51f0944e01a99ee4f9d  en_generic   \n998  1-7ff893bca92129d437a0a058f704d311  en_generic   \n999  1-71af48921c634d846d4b05d4dcde004e  en_generic   \n\n                                                 title  \\\n0    Coronavirus outbreak latest: <strong>554,934</...   \n1    Coronavirus outbreak latest: <strong>554,915</...   \n2    Coronavirus outbreak latest: <strong>1,604</st...   \n3    Coronavirus outbreak latest: <strong>554,661</...   \n4    Coronavirus outbreak latest: <strong>12,680,18...   \n..                                                 ...   \n995  Coronavirus outbreak latest: <strong>342,999</...   \n996  Coronavirus outbreak latest: <strong>2,404</st...   \n997  Coronavirus outbreak latest: <strong>2,060</st...   \n998  Coronavirus outbreak latest: <strong>1,636</st...   \n999  Coronavirus outbreak latest: <strong>341,379</...   \n\n                                               content  \\\n0    <p><small>Narrativa | Sunday, July 12, 2020 </...   \n1    <p><small>Narrativa | Sunday, July 12, 2020 </...   \n2    <p><small>Narrativa | Sunday, July 12, 2020 </...   \n3    <p><small>Narrativa | Sunday, July 12, 2020 </...   \n4    <p><small>Narrativa | Sunday, July 12, 2020 </...   \n..                                                 ...   \n995  <p><small>Narrativa | Wednesday, May 27, 2020 ...   \n996  <p><small>Narrativa | Wednesday, May 27, 2020 ...   \n997  <p><small>Narrativa | Wednesday, May 27, 2020 ...   \n998  <p><small>Narrativa | Wednesday, May 27, 2020 ...   \n999  <p><small>Narrativa | Wednesday, May 27, 2020 ...   \n\n                                          picurl_world  \\\n0    https://4i2g925ohj.execute-api.eu-west-3.amazo...   \n1    https://4i2g925ohj.execute-api.eu-west-3.amazo...   \n2    https://4i2g925ohj.execute-api.eu-west-3.amazo...   \n3    https://4i2g925ohj.execute-api.eu-west-3.amazo...   \n4    https://4i2g925ohj.execute-api.eu-west-3.amazo...   \n..                                                 ...   \n995  https://4i2g925ohj.execute-api.eu-west-3.amazo...   \n996  https://4i2g925ohj.execute-api.eu-west-3.amazo...   \n997  https://4i2g925ohj.execute-api.eu-west-3.amazo...   \n998  https://4i2g925ohj.execute-api.eu-west-3.amazo...   \n999  https://4i2g925ohj.execute-api.eu-west-3.amazo...   \n\n                                                picurl metatitle subtitle  \\\n0    https://4i2g925ohj.execute-api.eu-west-3.amazo...                      \n1    https://4i2g925ohj.execute-api.eu-west-3.amazo...                      \n2    https://4i2g925ohj.execute-api.eu-west-3.amazo...                      \n3    https://4i2g925ohj.execute-api.eu-west-3.amazo...                      \n4    https://4i2g925ohj.execute-api.eu-west-3.amazo...                      \n..                                                 ...       ...      ...   \n995  https://4i2g925ohj.execute-api.eu-west-3.amazo...                      \n996  https://4i2g925ohj.execute-api.eu-west-3.amazo...                      \n997  https://4i2g925ohj.execute-api.eu-west-3.amazo...                      \n998  https://4i2g925ohj.execute-api.eu-west-3.amazo...                      \n999  https://4i2g925ohj.execute-api.eu-west-3.amazo...                      \n\n                                     picurl_banner_web  \\\n0    https://4i2g925ohj.execute-api.eu-west-3.amazo...   \n1    https://4i2g925ohj.execute-api.eu-west-3.amazo...   \n2    https://4i2g925ohj.execute-api.eu-west-3.amazo...   \n3    https://4i2g925ohj.execute-api.eu-west-3.amazo...   \n4    https://4i2g925ohj.execute-api.eu-west-3.amazo...   \n..                                                 ...   \n995  https://4i2g925ohj.execute-api.eu-west-3.amazo...   \n996  https://4i2g925ohj.execute-api.eu-west-3.amazo...   \n997  https://4i2g925ohj.execute-api.eu-west-3.amazo...   \n998  https://4i2g925ohj.execute-api.eu-west-3.amazo...   \n999  https://4i2g925ohj.execute-api.eu-west-3.amazo...   \n\n                                  _id  \\\n0    2b4a5933a22c7a627d22dae2342947f0   \n1    2b4a5933a22c7a627d22dae2341e1f21   \n2    2b4a5933a22c7a627d22dae2341795d3   \n3    2b4a5933a22c7a627d22dae23410abbf   \n4    2b4a5933a22c7a627d22dae23408a537   \n..                                ...   \n995  be5b7a0656b8a6adc4e9cf8cefb0464b   \n996  be5b7a0656b8a6adc4e9cf8cef70c9ce   \n997  be5b7a0656b8a6adc4e9cf8cef25c7ea   \n998  3e067f8a24f35f866c13970387fedb1c   \n999  3e067f8a24f35f866c13970387b39c91   \n\n                                                    id  \n0    2020-7-12-19_01-COVID-world-en_generic_COVID_E...  \n1    2020-7-12-18_01-COVID-world-en_generic_COVID_E...  \n2    2020-7-12-17_01-COVID-world-en_generic_COVID_E...  \n3    2020-7-12-16_01-COVID-world-en_generic_COVID_E...  \n4    2020-7-12-15_01-COVID-world-en_generic_COVID_E...  \n..                                                 ...  \n995  2020-5-27-21_01-COVID-world-en_generic_COVID_E...  \n996  2020-5-27-20_01-COVID-world-en_generic_COVID_E...  \n997  2020-5-27-19_01-COVID-world-en_generic_COVID_E...  \n998  2020-5-27-18_01-COVID-world-en_generic_COVID_E...  \n999  2020-5-27-17_01-COVID-world-en_generic_COVID_E...  \n\n[1000 rows x 14 columns]",
      "text/html": "<div>\n<style scoped>\n    .dataframe tbody tr th:only-of-type {\n        vertical-align: middle;\n    }\n\n    .dataframe tbody tr th {\n        vertical-align: top;\n    }\n\n    .dataframe thead th {\n        text-align: right;\n    }\n</style>\n<table border=\"1\" class=\"dataframe\">\n  <thead>\n    <tr style=\"text-align: right;\">\n      <th></th>\n      <th>date</th>\n      <th>metadata</th>\n      <th>author</th>\n      <th>_rev</th>\n      <th>language</th>\n      <th>title</th>\n      <th>content</th>\n      <th>picurl_world</th>\n      <th>picurl</th>\n      <th>metatitle</th>\n      <th>subtitle</th>\n      <th>picurl_banner_web</th>\n      <th>_id</th>\n      <th>id</th>\n    </tr>\n  </thead>\n  <tbody>\n    <tr>\n      <th>0</th>\n      <td>2020-07-12 19:02:05+02:00</td>\n      <td>{'picurl_square_spain': 'https://4i2g925ohj.ex...</td>\n      <td>Narrativa</td>\n      <td>1-f30f88e8c14c2945960be8d62cd59391</td>\n      <td>en_generic</td>\n      <td>Coronavirus outbreak latest: &lt;strong&gt;554,934&lt;/...</td>\n      <td>&lt;p&gt;&lt;small&gt;Narrativa | Sunday, July 12, 2020 &lt;/...</td>\n      <td>https://4i2g925ohj.execute-api.eu-west-3.amazo...</td>\n      <td>https://4i2g925ohj.execute-api.eu-west-3.amazo...</td>\n      <td></td>\n      <td></td>\n      <td>https://4i2g925ohj.execute-api.eu-west-3.amazo...</td>\n      <td>2b4a5933a22c7a627d22dae2342947f0</td>\n      <td>2020-7-12-19_01-COVID-world-en_generic_COVID_E...</td>\n    </tr>\n    <tr>\n      <th>1</th>\n      <td>2020-07-12 18:03:06+02:00</td>\n      <td>{'picurl_square_spain': 'https://4i2g925ohj.ex...</td>\n      <td>Narrativa</td>\n      <td>1-85ac9d8186a6d4e9c59813adc6e51b14</td>\n      <td>en_generic</td>\n      <td>Coronavirus outbreak latest: &lt;strong&gt;554,915&lt;/...</td>\n      <td>&lt;p&gt;&lt;small&gt;Narrativa | Sunday, July 12, 2020 &lt;/...</td>\n      <td>https://4i2g925ohj.execute-api.eu-west-3.amazo...</td>\n      <td>https://4i2g925ohj.execute-api.eu-west-3.amazo...</td>\n      <td></td>\n      <td></td>\n      <td>https://4i2g925ohj.execute-api.eu-west-3.amazo...</td>\n      <td>2b4a5933a22c7a627d22dae2341e1f21</td>\n      <td>2020-7-12-18_01-COVID-world-en_generic_COVID_E...</td>\n    </tr>\n    <tr>\n      <th>2</th>\n      <td>2020-07-12 17:05:34+02:00</td>\n      <td>{'picurl_square_spain': 'https://4i2g925ohj.ex...</td>\n      <td>Narrativa</td>\n      <td>1-f9e374f9a9ae40c10ccaba9257edf269</td>\n      <td>en_generic</td>\n      <td>Coronavirus outbreak latest: &lt;strong&gt;1,604&lt;/st...</td>\n      <td>&lt;p&gt;&lt;small&gt;Narrativa | Sunday, July 12, 2020 &lt;/...</td>\n      <td>https://4i2g925ohj.execute-api.eu-west-3.amazo...</td>\n      <td>https://4i2g925ohj.execute-api.eu-west-3.amazo...</td>\n      <td></td>\n      <td></td>\n      <td>https://4i2g925ohj.execute-api.eu-west-3.amazo...</td>\n      <td>2b4a5933a22c7a627d22dae2341795d3</td>\n      <td>2020-7-12-17_01-COVID-world-en_generic_COVID_E...</td>\n    </tr>\n    <tr>\n      <th>3</th>\n      <td>2020-07-12 16:02:56+02:00</td>\n      <td>{'picurl_square_spain': 'https://4i2g925ohj.ex...</td>\n      <td>Narrativa</td>\n      <td>1-5050fc44dd82faaa5516f5e8a3acaa03</td>\n      <td>en_generic</td>\n      <td>Coronavirus outbreak latest: &lt;strong&gt;554,661&lt;/...</td>\n      <td>&lt;p&gt;&lt;small&gt;Narrativa | Sunday, July 12, 2020 &lt;/...</td>\n      <td>https://4i2g925ohj.execute-api.eu-west-3.amazo...</td>\n      <td>https://4i2g925ohj.execute-api.eu-west-3.amazo...</td>\n      <td></td>\n      <td></td>\n      <td>https://4i2g925ohj.execute-api.eu-west-3.amazo...</td>\n      <td>2b4a5933a22c7a627d22dae23410abbf</td>\n      <td>2020-7-12-16_01-COVID-world-en_generic_COVID_E...</td>\n    </tr>\n    <tr>\n      <th>4</th>\n      <td>2020-07-12 15:09:59+02:00</td>\n      <td>{'picurl_square_spain': 'https://4i2g925ohj.ex...</td>\n      <td>Narrativa</td>\n      <td>1-cecd14f4856016af54644b482ba16306</td>\n      <td>en_generic</td>\n      <td>Coronavirus outbreak latest: &lt;strong&gt;12,680,18...</td>\n      <td>&lt;p&gt;&lt;small&gt;Narrativa | Sunday, July 12, 2020 &lt;/...</td>\n      <td>https://4i2g925ohj.execute-api.eu-west-3.amazo...</td>\n      <td>https://4i2g925ohj.execute-api.eu-west-3.amazo...</td>\n      <td></td>\n      <td></td>\n      <td>https://4i2g925ohj.execute-api.eu-west-3.amazo...</td>\n      <td>2b4a5933a22c7a627d22dae23408a537</td>\n      <td>2020-7-12-15_01-COVID-world-en_generic_COVID_E...</td>\n    </tr>\n    <tr>\n      <th>...</th>\n      <td>...</td>\n      <td>...</td>\n      <td>...</td>\n      <td>...</td>\n      <td>...</td>\n      <td>...</td>\n      <td>...</td>\n      <td>...</td>\n      <td>...</td>\n      <td>...</td>\n      <td>...</td>\n      <td>...</td>\n      <td>...</td>\n      <td>...</td>\n    </tr>\n    <tr>\n      <th>995</th>\n      <td>2020-05-27 21:04:34+02:00</td>\n      <td>{'picurl_square_spain': 'https://4i2g925ohj.ex...</td>\n      <td>Narrativa</td>\n      <td>1-f815f865001d89f33754818a7254b210</td>\n      <td>en_generic</td>\n      <td>Coronavirus outbreak latest: &lt;strong&gt;342,999&lt;/...</td>\n      <td>&lt;p&gt;&lt;small&gt;Narrativa | Wednesday, May 27, 2020 ...</td>\n      <td>https://4i2g925ohj.execute-api.eu-west-3.amazo...</td>\n      <td>https://4i2g925ohj.execute-api.eu-west-3.amazo...</td>\n      <td></td>\n      <td></td>\n      <td>https://4i2g925ohj.execute-api.eu-west-3.amazo...</td>\n      <td>be5b7a0656b8a6adc4e9cf8cefb0464b</td>\n      <td>2020-5-27-21_01-COVID-world-en_generic_COVID_E...</td>\n    </tr>\n    <tr>\n      <th>996</th>\n      <td>2020-05-27 20:01:33+02:00</td>\n      <td>{'picurl_square_spain': 'https://4i2g925ohj.ex...</td>\n      <td>Narrativa</td>\n      <td>1-da5c65c1953988bec8deebdf59a544f7</td>\n      <td>en_generic</td>\n      <td>Coronavirus outbreak latest: &lt;strong&gt;2,404&lt;/st...</td>\n      <td>&lt;p&gt;&lt;small&gt;Narrativa | Wednesday, May 27, 2020 ...</td>\n      <td>https://4i2g925ohj.execute-api.eu-west-3.amazo...</td>\n      <td>https://4i2g925ohj.execute-api.eu-west-3.amazo...</td>\n      <td></td>\n      <td></td>\n      <td>https://4i2g925ohj.execute-api.eu-west-3.amazo...</td>\n      <td>be5b7a0656b8a6adc4e9cf8cef70c9ce</td>\n      <td>2020-5-27-20_01-COVID-world-en_generic_COVID_E...</td>\n    </tr>\n    <tr>\n      <th>997</th>\n      <td>2020-05-27 19:02:24+02:00</td>\n      <td>{'picurl_square_spain': 'https://4i2g925ohj.ex...</td>\n      <td>Narrativa</td>\n      <td>1-bfd9fc0ba796d51f0944e01a99ee4f9d</td>\n      <td>en_generic</td>\n      <td>Coronavirus outbreak latest: &lt;strong&gt;2,060&lt;/st...</td>\n      <td>&lt;p&gt;&lt;small&gt;Narrativa | Wednesday, May 27, 2020 ...</td>\n      <td>https://4i2g925ohj.execute-api.eu-west-3.amazo...</td>\n      <td>https://4i2g925ohj.execute-api.eu-west-3.amazo...</td>\n      <td></td>\n      <td></td>\n      <td>https://4i2g925ohj.execute-api.eu-west-3.amazo...</td>\n      <td>be5b7a0656b8a6adc4e9cf8cef25c7ea</td>\n      <td>2020-5-27-19_01-COVID-world-en_generic_COVID_E...</td>\n    </tr>\n    <tr>\n      <th>998</th>\n      <td>2020-05-27 18:15:20+02:00</td>\n      <td>{'picurl_square_spain': 'https://4i2g925ohj.ex...</td>\n      <td>Narrativa</td>\n      <td>1-7ff893bca92129d437a0a058f704d311</td>\n      <td>en_generic</td>\n      <td>Coronavirus outbreak latest: &lt;strong&gt;1,636&lt;/st...</td>\n      <td>&lt;p&gt;&lt;small&gt;Narrativa | Wednesday, May 27, 2020 ...</td>\n      <td>https://4i2g925ohj.execute-api.eu-west-3.amazo...</td>\n      <td>https://4i2g925ohj.execute-api.eu-west-3.amazo...</td>\n      <td></td>\n      <td></td>\n      <td>https://4i2g925ohj.execute-api.eu-west-3.amazo...</td>\n      <td>3e067f8a24f35f866c13970387fedb1c</td>\n      <td>2020-5-27-18_01-COVID-world-en_generic_COVID_E...</td>\n    </tr>\n    <tr>\n      <th>999</th>\n      <td>2020-05-27 17:21:37+02:00</td>\n      <td>{'picurl_square_spain': 'https://4i2g925ohj.ex...</td>\n      <td>Narrativa</td>\n      <td>1-71af48921c634d846d4b05d4dcde004e</td>\n      <td>en_generic</td>\n      <td>Coronavirus outbreak latest: &lt;strong&gt;341,379&lt;/...</td>\n      <td>&lt;p&gt;&lt;small&gt;Narrativa | Wednesday, May 27, 2020 ...</td>\n      <td>https://4i2g925ohj.execute-api.eu-west-3.amazo...</td>\n      <td>https://4i2g925ohj.execute-api.eu-west-3.amazo...</td>\n      <td></td>\n      <td></td>\n      <td>https://4i2g925ohj.execute-api.eu-west-3.amazo...</td>\n      <td>3e067f8a24f35f866c13970387b39c91</td>\n      <td>2020-5-27-17_01-COVID-world-en_generic_COVID_E...</td>\n    </tr>\n  </tbody>\n</table>\n<p>1000 rows × 14 columns</p>\n</div>"
     },
     "metadata": {},
     "execution_count": 25
    }
   ],
   "source": [
    "#Ahora final_data me muestra el contenido en columnas\n",
    "\n",
    "df_post_json = pd.read_json(\"final_data.json\")\n",
    "df_post_json"
   ]
  },
  {
   "cell_type": "code",
   "execution_count": 34,
   "metadata": {},
   "outputs": [
    {
     "output_type": "execute_result",
     "data": {
      "text/plain": "                                                                    metadata  \\\ndate                                                                           \n2020-07-12 19:02:05+02:00  {'picurl_square_spain': 'https://4i2g925ohj.ex...   \n2020-07-12 18:03:06+02:00  {'picurl_square_spain': 'https://4i2g925ohj.ex...   \n2020-07-12 17:05:34+02:00  {'picurl_square_spain': 'https://4i2g925ohj.ex...   \n2020-07-12 16:02:56+02:00  {'picurl_square_spain': 'https://4i2g925ohj.ex...   \n2020-07-12 15:09:59+02:00  {'picurl_square_spain': 'https://4i2g925ohj.ex...   \n...                                                                      ...   \n2020-05-27 21:04:34+02:00  {'picurl_square_spain': 'https://4i2g925ohj.ex...   \n2020-05-27 20:01:33+02:00  {'picurl_square_spain': 'https://4i2g925ohj.ex...   \n2020-05-27 19:02:24+02:00  {'picurl_square_spain': 'https://4i2g925ohj.ex...   \n2020-05-27 18:15:20+02:00  {'picurl_square_spain': 'https://4i2g925ohj.ex...   \n2020-05-27 17:21:37+02:00  {'picurl_square_spain': 'https://4i2g925ohj.ex...   \n\n                              author                                _rev  \\\ndate                                                                       \n2020-07-12 19:02:05+02:00  Narrativa  1-f30f88e8c14c2945960be8d62cd59391   \n2020-07-12 18:03:06+02:00  Narrativa  1-85ac9d8186a6d4e9c59813adc6e51b14   \n2020-07-12 17:05:34+02:00  Narrativa  1-f9e374f9a9ae40c10ccaba9257edf269   \n2020-07-12 16:02:56+02:00  Narrativa  1-5050fc44dd82faaa5516f5e8a3acaa03   \n2020-07-12 15:09:59+02:00  Narrativa  1-cecd14f4856016af54644b482ba16306   \n...                              ...                                 ...   \n2020-05-27 21:04:34+02:00  Narrativa  1-f815f865001d89f33754818a7254b210   \n2020-05-27 20:01:33+02:00  Narrativa  1-da5c65c1953988bec8deebdf59a544f7   \n2020-05-27 19:02:24+02:00  Narrativa  1-bfd9fc0ba796d51f0944e01a99ee4f9d   \n2020-05-27 18:15:20+02:00  Narrativa  1-7ff893bca92129d437a0a058f704d311   \n2020-05-27 17:21:37+02:00  Narrativa  1-71af48921c634d846d4b05d4dcde004e   \n\n                             language  \\\ndate                                    \n2020-07-12 19:02:05+02:00  en_generic   \n2020-07-12 18:03:06+02:00  en_generic   \n2020-07-12 17:05:34+02:00  en_generic   \n2020-07-12 16:02:56+02:00  en_generic   \n2020-07-12 15:09:59+02:00  en_generic   \n...                               ...   \n2020-05-27 21:04:34+02:00  en_generic   \n2020-05-27 20:01:33+02:00  en_generic   \n2020-05-27 19:02:24+02:00  en_generic   \n2020-05-27 18:15:20+02:00  en_generic   \n2020-05-27 17:21:37+02:00  en_generic   \n\n                                                                       title  \\\ndate                                                                           \n2020-07-12 19:02:05+02:00  Coronavirus outbreak latest: <strong>554,934</...   \n2020-07-12 18:03:06+02:00  Coronavirus outbreak latest: <strong>554,915</...   \n2020-07-12 17:05:34+02:00  Coronavirus outbreak latest: <strong>1,604</st...   \n2020-07-12 16:02:56+02:00  Coronavirus outbreak latest: <strong>554,661</...   \n2020-07-12 15:09:59+02:00  Coronavirus outbreak latest: <strong>12,680,18...   \n...                                                                      ...   \n2020-05-27 21:04:34+02:00  Coronavirus outbreak latest: <strong>342,999</...   \n2020-05-27 20:01:33+02:00  Coronavirus outbreak latest: <strong>2,404</st...   \n2020-05-27 19:02:24+02:00  Coronavirus outbreak latest: <strong>2,060</st...   \n2020-05-27 18:15:20+02:00  Coronavirus outbreak latest: <strong>1,636</st...   \n2020-05-27 17:21:37+02:00  Coronavirus outbreak latest: <strong>341,379</...   \n\n                                                                     content  \\\ndate                                                                           \n2020-07-12 19:02:05+02:00  <p><small>Narrativa | Sunday, July 12, 2020 </...   \n2020-07-12 18:03:06+02:00  <p><small>Narrativa | Sunday, July 12, 2020 </...   \n2020-07-12 17:05:34+02:00  <p><small>Narrativa | Sunday, July 12, 2020 </...   \n2020-07-12 16:02:56+02:00  <p><small>Narrativa | Sunday, July 12, 2020 </...   \n2020-07-12 15:09:59+02:00  <p><small>Narrativa | Sunday, July 12, 2020 </...   \n...                                                                      ...   \n2020-05-27 21:04:34+02:00  <p><small>Narrativa | Wednesday, May 27, 2020 ...   \n2020-05-27 20:01:33+02:00  <p><small>Narrativa | Wednesday, May 27, 2020 ...   \n2020-05-27 19:02:24+02:00  <p><small>Narrativa | Wednesday, May 27, 2020 ...   \n2020-05-27 18:15:20+02:00  <p><small>Narrativa | Wednesday, May 27, 2020 ...   \n2020-05-27 17:21:37+02:00  <p><small>Narrativa | Wednesday, May 27, 2020 ...   \n\n                                                                picurl_world  \\\ndate                                                                           \n2020-07-12 19:02:05+02:00  https://4i2g925ohj.execute-api.eu-west-3.amazo...   \n2020-07-12 18:03:06+02:00  https://4i2g925ohj.execute-api.eu-west-3.amazo...   \n2020-07-12 17:05:34+02:00  https://4i2g925ohj.execute-api.eu-west-3.amazo...   \n2020-07-12 16:02:56+02:00  https://4i2g925ohj.execute-api.eu-west-3.amazo...   \n2020-07-12 15:09:59+02:00  https://4i2g925ohj.execute-api.eu-west-3.amazo...   \n...                                                                      ...   \n2020-05-27 21:04:34+02:00  https://4i2g925ohj.execute-api.eu-west-3.amazo...   \n2020-05-27 20:01:33+02:00  https://4i2g925ohj.execute-api.eu-west-3.amazo...   \n2020-05-27 19:02:24+02:00  https://4i2g925ohj.execute-api.eu-west-3.amazo...   \n2020-05-27 18:15:20+02:00  https://4i2g925ohj.execute-api.eu-west-3.amazo...   \n2020-05-27 17:21:37+02:00  https://4i2g925ohj.execute-api.eu-west-3.amazo...   \n\n                                                                      picurl  \\\ndate                                                                           \n2020-07-12 19:02:05+02:00  https://4i2g925ohj.execute-api.eu-west-3.amazo...   \n2020-07-12 18:03:06+02:00  https://4i2g925ohj.execute-api.eu-west-3.amazo...   \n2020-07-12 17:05:34+02:00  https://4i2g925ohj.execute-api.eu-west-3.amazo...   \n2020-07-12 16:02:56+02:00  https://4i2g925ohj.execute-api.eu-west-3.amazo...   \n2020-07-12 15:09:59+02:00  https://4i2g925ohj.execute-api.eu-west-3.amazo...   \n...                                                                      ...   \n2020-05-27 21:04:34+02:00  https://4i2g925ohj.execute-api.eu-west-3.amazo...   \n2020-05-27 20:01:33+02:00  https://4i2g925ohj.execute-api.eu-west-3.amazo...   \n2020-05-27 19:02:24+02:00  https://4i2g925ohj.execute-api.eu-west-3.amazo...   \n2020-05-27 18:15:20+02:00  https://4i2g925ohj.execute-api.eu-west-3.amazo...   \n2020-05-27 17:21:37+02:00  https://4i2g925ohj.execute-api.eu-west-3.amazo...   \n\n                          metatitle subtitle  \\\ndate                                           \n2020-07-12 19:02:05+02:00                      \n2020-07-12 18:03:06+02:00                      \n2020-07-12 17:05:34+02:00                      \n2020-07-12 16:02:56+02:00                      \n2020-07-12 15:09:59+02:00                      \n...                             ...      ...   \n2020-05-27 21:04:34+02:00                      \n2020-05-27 20:01:33+02:00                      \n2020-05-27 19:02:24+02:00                      \n2020-05-27 18:15:20+02:00                      \n2020-05-27 17:21:37+02:00                      \n\n                                                           picurl_banner_web  \\\ndate                                                                           \n2020-07-12 19:02:05+02:00  https://4i2g925ohj.execute-api.eu-west-3.amazo...   \n2020-07-12 18:03:06+02:00  https://4i2g925ohj.execute-api.eu-west-3.amazo...   \n2020-07-12 17:05:34+02:00  https://4i2g925ohj.execute-api.eu-west-3.amazo...   \n2020-07-12 16:02:56+02:00  https://4i2g925ohj.execute-api.eu-west-3.amazo...   \n2020-07-12 15:09:59+02:00  https://4i2g925ohj.execute-api.eu-west-3.amazo...   \n...                                                                      ...   \n2020-05-27 21:04:34+02:00  https://4i2g925ohj.execute-api.eu-west-3.amazo...   \n2020-05-27 20:01:33+02:00  https://4i2g925ohj.execute-api.eu-west-3.amazo...   \n2020-05-27 19:02:24+02:00  https://4i2g925ohj.execute-api.eu-west-3.amazo...   \n2020-05-27 18:15:20+02:00  https://4i2g925ohj.execute-api.eu-west-3.amazo...   \n2020-05-27 17:21:37+02:00  https://4i2g925ohj.execute-api.eu-west-3.amazo...   \n\n                                                        _id  \\\ndate                                                          \n2020-07-12 19:02:05+02:00  2b4a5933a22c7a627d22dae2342947f0   \n2020-07-12 18:03:06+02:00  2b4a5933a22c7a627d22dae2341e1f21   \n2020-07-12 17:05:34+02:00  2b4a5933a22c7a627d22dae2341795d3   \n2020-07-12 16:02:56+02:00  2b4a5933a22c7a627d22dae23410abbf   \n2020-07-12 15:09:59+02:00  2b4a5933a22c7a627d22dae23408a537   \n...                                                     ...   \n2020-05-27 21:04:34+02:00  be5b7a0656b8a6adc4e9cf8cefb0464b   \n2020-05-27 20:01:33+02:00  be5b7a0656b8a6adc4e9cf8cef70c9ce   \n2020-05-27 19:02:24+02:00  be5b7a0656b8a6adc4e9cf8cef25c7ea   \n2020-05-27 18:15:20+02:00  3e067f8a24f35f866c13970387fedb1c   \n2020-05-27 17:21:37+02:00  3e067f8a24f35f866c13970387b39c91   \n\n                                                                          id  \ndate                                                                          \n2020-07-12 19:02:05+02:00  2020-7-12-19_01-COVID-world-en_generic_COVID_E...  \n2020-07-12 18:03:06+02:00  2020-7-12-18_01-COVID-world-en_generic_COVID_E...  \n2020-07-12 17:05:34+02:00  2020-7-12-17_01-COVID-world-en_generic_COVID_E...  \n2020-07-12 16:02:56+02:00  2020-7-12-16_01-COVID-world-en_generic_COVID_E...  \n2020-07-12 15:09:59+02:00  2020-7-12-15_01-COVID-world-en_generic_COVID_E...  \n...                                                                      ...  \n2020-05-27 21:04:34+02:00  2020-5-27-21_01-COVID-world-en_generic_COVID_E...  \n2020-05-27 20:01:33+02:00  2020-5-27-20_01-COVID-world-en_generic_COVID_E...  \n2020-05-27 19:02:24+02:00  2020-5-27-19_01-COVID-world-en_generic_COVID_E...  \n2020-05-27 18:15:20+02:00  2020-5-27-18_01-COVID-world-en_generic_COVID_E...  \n2020-05-27 17:21:37+02:00  2020-5-27-17_01-COVID-world-en_generic_COVID_E...  \n\n[1000 rows x 13 columns]",
      "text/html": "<div>\n<style scoped>\n    .dataframe tbody tr th:only-of-type {\n        vertical-align: middle;\n    }\n\n    .dataframe tbody tr th {\n        vertical-align: top;\n    }\n\n    .dataframe thead th {\n        text-align: right;\n    }\n</style>\n<table border=\"1\" class=\"dataframe\">\n  <thead>\n    <tr style=\"text-align: right;\">\n      <th></th>\n      <th>metadata</th>\n      <th>author</th>\n      <th>_rev</th>\n      <th>language</th>\n      <th>title</th>\n      <th>content</th>\n      <th>picurl_world</th>\n      <th>picurl</th>\n      <th>metatitle</th>\n      <th>subtitle</th>\n      <th>picurl_banner_web</th>\n      <th>_id</th>\n      <th>id</th>\n    </tr>\n    <tr>\n      <th>date</th>\n      <th></th>\n      <th></th>\n      <th></th>\n      <th></th>\n      <th></th>\n      <th></th>\n      <th></th>\n      <th></th>\n      <th></th>\n      <th></th>\n      <th></th>\n      <th></th>\n      <th></th>\n    </tr>\n  </thead>\n  <tbody>\n    <tr>\n      <th>2020-07-12 19:02:05+02:00</th>\n      <td>{'picurl_square_spain': 'https://4i2g925ohj.ex...</td>\n      <td>Narrativa</td>\n      <td>1-f30f88e8c14c2945960be8d62cd59391</td>\n      <td>en_generic</td>\n      <td>Coronavirus outbreak latest: &lt;strong&gt;554,934&lt;/...</td>\n      <td>&lt;p&gt;&lt;small&gt;Narrativa | Sunday, July 12, 2020 &lt;/...</td>\n      <td>https://4i2g925ohj.execute-api.eu-west-3.amazo...</td>\n      <td>https://4i2g925ohj.execute-api.eu-west-3.amazo...</td>\n      <td></td>\n      <td></td>\n      <td>https://4i2g925ohj.execute-api.eu-west-3.amazo...</td>\n      <td>2b4a5933a22c7a627d22dae2342947f0</td>\n      <td>2020-7-12-19_01-COVID-world-en_generic_COVID_E...</td>\n    </tr>\n    <tr>\n      <th>2020-07-12 18:03:06+02:00</th>\n      <td>{'picurl_square_spain': 'https://4i2g925ohj.ex...</td>\n      <td>Narrativa</td>\n      <td>1-85ac9d8186a6d4e9c59813adc6e51b14</td>\n      <td>en_generic</td>\n      <td>Coronavirus outbreak latest: &lt;strong&gt;554,915&lt;/...</td>\n      <td>&lt;p&gt;&lt;small&gt;Narrativa | Sunday, July 12, 2020 &lt;/...</td>\n      <td>https://4i2g925ohj.execute-api.eu-west-3.amazo...</td>\n      <td>https://4i2g925ohj.execute-api.eu-west-3.amazo...</td>\n      <td></td>\n      <td></td>\n      <td>https://4i2g925ohj.execute-api.eu-west-3.amazo...</td>\n      <td>2b4a5933a22c7a627d22dae2341e1f21</td>\n      <td>2020-7-12-18_01-COVID-world-en_generic_COVID_E...</td>\n    </tr>\n    <tr>\n      <th>2020-07-12 17:05:34+02:00</th>\n      <td>{'picurl_square_spain': 'https://4i2g925ohj.ex...</td>\n      <td>Narrativa</td>\n      <td>1-f9e374f9a9ae40c10ccaba9257edf269</td>\n      <td>en_generic</td>\n      <td>Coronavirus outbreak latest: &lt;strong&gt;1,604&lt;/st...</td>\n      <td>&lt;p&gt;&lt;small&gt;Narrativa | Sunday, July 12, 2020 &lt;/...</td>\n      <td>https://4i2g925ohj.execute-api.eu-west-3.amazo...</td>\n      <td>https://4i2g925ohj.execute-api.eu-west-3.amazo...</td>\n      <td></td>\n      <td></td>\n      <td>https://4i2g925ohj.execute-api.eu-west-3.amazo...</td>\n      <td>2b4a5933a22c7a627d22dae2341795d3</td>\n      <td>2020-7-12-17_01-COVID-world-en_generic_COVID_E...</td>\n    </tr>\n    <tr>\n      <th>2020-07-12 16:02:56+02:00</th>\n      <td>{'picurl_square_spain': 'https://4i2g925ohj.ex...</td>\n      <td>Narrativa</td>\n      <td>1-5050fc44dd82faaa5516f5e8a3acaa03</td>\n      <td>en_generic</td>\n      <td>Coronavirus outbreak latest: &lt;strong&gt;554,661&lt;/...</td>\n      <td>&lt;p&gt;&lt;small&gt;Narrativa | Sunday, July 12, 2020 &lt;/...</td>\n      <td>https://4i2g925ohj.execute-api.eu-west-3.amazo...</td>\n      <td>https://4i2g925ohj.execute-api.eu-west-3.amazo...</td>\n      <td></td>\n      <td></td>\n      <td>https://4i2g925ohj.execute-api.eu-west-3.amazo...</td>\n      <td>2b4a5933a22c7a627d22dae23410abbf</td>\n      <td>2020-7-12-16_01-COVID-world-en_generic_COVID_E...</td>\n    </tr>\n    <tr>\n      <th>2020-07-12 15:09:59+02:00</th>\n      <td>{'picurl_square_spain': 'https://4i2g925ohj.ex...</td>\n      <td>Narrativa</td>\n      <td>1-cecd14f4856016af54644b482ba16306</td>\n      <td>en_generic</td>\n      <td>Coronavirus outbreak latest: &lt;strong&gt;12,680,18...</td>\n      <td>&lt;p&gt;&lt;small&gt;Narrativa | Sunday, July 12, 2020 &lt;/...</td>\n      <td>https://4i2g925ohj.execute-api.eu-west-3.amazo...</td>\n      <td>https://4i2g925ohj.execute-api.eu-west-3.amazo...</td>\n      <td></td>\n      <td></td>\n      <td>https://4i2g925ohj.execute-api.eu-west-3.amazo...</td>\n      <td>2b4a5933a22c7a627d22dae23408a537</td>\n      <td>2020-7-12-15_01-COVID-world-en_generic_COVID_E...</td>\n    </tr>\n    <tr>\n      <th>...</th>\n      <td>...</td>\n      <td>...</td>\n      <td>...</td>\n      <td>...</td>\n      <td>...</td>\n      <td>...</td>\n      <td>...</td>\n      <td>...</td>\n      <td>...</td>\n      <td>...</td>\n      <td>...</td>\n      <td>...</td>\n      <td>...</td>\n    </tr>\n    <tr>\n      <th>2020-05-27 21:04:34+02:00</th>\n      <td>{'picurl_square_spain': 'https://4i2g925ohj.ex...</td>\n      <td>Narrativa</td>\n      <td>1-f815f865001d89f33754818a7254b210</td>\n      <td>en_generic</td>\n      <td>Coronavirus outbreak latest: &lt;strong&gt;342,999&lt;/...</td>\n      <td>&lt;p&gt;&lt;small&gt;Narrativa | Wednesday, May 27, 2020 ...</td>\n      <td>https://4i2g925ohj.execute-api.eu-west-3.amazo...</td>\n      <td>https://4i2g925ohj.execute-api.eu-west-3.amazo...</td>\n      <td></td>\n      <td></td>\n      <td>https://4i2g925ohj.execute-api.eu-west-3.amazo...</td>\n      <td>be5b7a0656b8a6adc4e9cf8cefb0464b</td>\n      <td>2020-5-27-21_01-COVID-world-en_generic_COVID_E...</td>\n    </tr>\n    <tr>\n      <th>2020-05-27 20:01:33+02:00</th>\n      <td>{'picurl_square_spain': 'https://4i2g925ohj.ex...</td>\n      <td>Narrativa</td>\n      <td>1-da5c65c1953988bec8deebdf59a544f7</td>\n      <td>en_generic</td>\n      <td>Coronavirus outbreak latest: &lt;strong&gt;2,404&lt;/st...</td>\n      <td>&lt;p&gt;&lt;small&gt;Narrativa | Wednesday, May 27, 2020 ...</td>\n      <td>https://4i2g925ohj.execute-api.eu-west-3.amazo...</td>\n      <td>https://4i2g925ohj.execute-api.eu-west-3.amazo...</td>\n      <td></td>\n      <td></td>\n      <td>https://4i2g925ohj.execute-api.eu-west-3.amazo...</td>\n      <td>be5b7a0656b8a6adc4e9cf8cef70c9ce</td>\n      <td>2020-5-27-20_01-COVID-world-en_generic_COVID_E...</td>\n    </tr>\n    <tr>\n      <th>2020-05-27 19:02:24+02:00</th>\n      <td>{'picurl_square_spain': 'https://4i2g925ohj.ex...</td>\n      <td>Narrativa</td>\n      <td>1-bfd9fc0ba796d51f0944e01a99ee4f9d</td>\n      <td>en_generic</td>\n      <td>Coronavirus outbreak latest: &lt;strong&gt;2,060&lt;/st...</td>\n      <td>&lt;p&gt;&lt;small&gt;Narrativa | Wednesday, May 27, 2020 ...</td>\n      <td>https://4i2g925ohj.execute-api.eu-west-3.amazo...</td>\n      <td>https://4i2g925ohj.execute-api.eu-west-3.amazo...</td>\n      <td></td>\n      <td></td>\n      <td>https://4i2g925ohj.execute-api.eu-west-3.amazo...</td>\n      <td>be5b7a0656b8a6adc4e9cf8cef25c7ea</td>\n      <td>2020-5-27-19_01-COVID-world-en_generic_COVID_E...</td>\n    </tr>\n    <tr>\n      <th>2020-05-27 18:15:20+02:00</th>\n      <td>{'picurl_square_spain': 'https://4i2g925ohj.ex...</td>\n      <td>Narrativa</td>\n      <td>1-7ff893bca92129d437a0a058f704d311</td>\n      <td>en_generic</td>\n      <td>Coronavirus outbreak latest: &lt;strong&gt;1,636&lt;/st...</td>\n      <td>&lt;p&gt;&lt;small&gt;Narrativa | Wednesday, May 27, 2020 ...</td>\n      <td>https://4i2g925ohj.execute-api.eu-west-3.amazo...</td>\n      <td>https://4i2g925ohj.execute-api.eu-west-3.amazo...</td>\n      <td></td>\n      <td></td>\n      <td>https://4i2g925ohj.execute-api.eu-west-3.amazo...</td>\n      <td>3e067f8a24f35f866c13970387fedb1c</td>\n      <td>2020-5-27-18_01-COVID-world-en_generic_COVID_E...</td>\n    </tr>\n    <tr>\n      <th>2020-05-27 17:21:37+02:00</th>\n      <td>{'picurl_square_spain': 'https://4i2g925ohj.ex...</td>\n      <td>Narrativa</td>\n      <td>1-71af48921c634d846d4b05d4dcde004e</td>\n      <td>en_generic</td>\n      <td>Coronavirus outbreak latest: &lt;strong&gt;341,379&lt;/...</td>\n      <td>&lt;p&gt;&lt;small&gt;Narrativa | Wednesday, May 27, 2020 ...</td>\n      <td>https://4i2g925ohj.execute-api.eu-west-3.amazo...</td>\n      <td>https://4i2g925ohj.execute-api.eu-west-3.amazo...</td>\n      <td></td>\n      <td></td>\n      <td>https://4i2g925ohj.execute-api.eu-west-3.amazo...</td>\n      <td>3e067f8a24f35f866c13970387b39c91</td>\n      <td>2020-5-27-17_01-COVID-world-en_generic_COVID_E...</td>\n    </tr>\n  </tbody>\n</table>\n<p>1000 rows × 13 columns</p>\n</div>"
     },
     "metadata": {},
     "execution_count": 34
    }
   ],
   "source": [
    "# Establezco date como index\n",
    "df_post_json.set_index(\"date\")"
   ]
  },
  {
   "cell_type": "code",
   "execution_count": 54,
   "metadata": {},
   "outputs": [
    {
     "output_type": "error",
     "ename": "NameError",
     "evalue": "name 'metadata_json' is not defined",
     "traceback": [
      "\u001b[0;31m---------------------------------------------------------------------------\u001b[0m",
      "\u001b[0;31mNameError\u001b[0m                                 Traceback (most recent call last)",
      "\u001b[0;32m<ipython-input-54-090ed001a259>\u001b[0m in \u001b[0;36m<module>\u001b[0;34m\u001b[0m\n\u001b[1;32m      4\u001b[0m \u001b[0;34m\u001b[0m\u001b[0m\n\u001b[1;32m      5\u001b[0m \u001b[0;32mwith\u001b[0m \u001b[0mopen\u001b[0m \u001b[0;34m(\u001b[0m\u001b[0;34m'metadata_json.json'\u001b[0m\u001b[0;34m,\u001b[0m \u001b[0;34m'w+'\u001b[0m\u001b[0;34m)\u001b[0m \u001b[0;32mas\u001b[0m \u001b[0moutfile\u001b[0m\u001b[0;34m:\u001b[0m\u001b[0;34m\u001b[0m\u001b[0;34m\u001b[0m\u001b[0m\n\u001b[0;32m----> 6\u001b[0;31m     \u001b[0mjson\u001b[0m\u001b[0;34m.\u001b[0m\u001b[0mdump\u001b[0m\u001b[0;34m(\u001b[0m\u001b[0mmetadata_json\u001b[0m\u001b[0;34m.\u001b[0m\u001b[0mjson\u001b[0m\u001b[0;34m,\u001b[0m \u001b[0moutfile\u001b[0m\u001b[0;34m,\u001b[0m \u001b[0mindent\u001b[0m\u001b[0;34m=\u001b[0m\u001b[0;36m4\u001b[0m\u001b[0;34m)\u001b[0m\u001b[0;34m\u001b[0m\u001b[0;34m\u001b[0m\u001b[0m\n\u001b[0m\u001b[1;32m      7\u001b[0m \u001b[0;34m\u001b[0m\u001b[0m\n\u001b[1;32m      8\u001b[0m \u001b[0mdf_metadata_json\u001b[0m \u001b[0;34m=\u001b[0m \u001b[0mpd\u001b[0m\u001b[0;34m.\u001b[0m\u001b[0mread_json\u001b[0m\u001b[0;34m(\u001b[0m\u001b[0;34m\"metadata_json.json\"\u001b[0m\u001b[0;34m)\u001b[0m\u001b[0;34m\u001b[0m\u001b[0;34m\u001b[0m\u001b[0m\n",
      "\u001b[0;31mNameError\u001b[0m: name 'metadata_json' is not defined"
     ]
    }
   ],
   "source": [
    "#Metadata contiene un diccionario, que convierto a serie.\n",
    "\n",
    "df_post_json[\"metadata\"]\n",
    "\n",
    "with open ('metadata_json.json', 'w+') as outfile:\n",
    "    json.dump(metadata_json.json, outfile, indent=4)\n",
    "\n",
    "df_metadata_json = pd.read_json(\"metadata_json.json\")\n",
    "\n",
    "\n"
   ]
  },
  {
   "cell_type": "code",
   "execution_count": 55,
   "metadata": {},
   "outputs": [],
   "source": [
    "with open('final_data.json', 'w+') as outfile:\n",
    "    json.dump(post_json_list, outfile, indent=4)\n",
    "\n",
    "df_data_json = pd.read_json(\"final_data.json\")\n"
   ]
  },
  {
   "cell_type": "code",
   "execution_count": 56,
   "metadata": {},
   "outputs": [],
   "source": [
    "final_df = pd.concat([df_post_json,] , axis = 0, sort= False)"
   ]
  }
 ],
 "metadata": {
  "language_info": {
   "name": "python",
   "codemirror_mode": {
    "name": "ipython",
    "version": 3
   },
   "version": "3.6.4-final"
  },
  "orig_nbformat": 2,
  "file_extension": ".py",
  "mimetype": "text/x-python",
  "name": "python",
  "npconvert_exporter": "python",
  "pygments_lexer": "ipython3",
  "version": 3,
  "kernelspec": {
   "name": "python_defaultSpec_1594576554910",
   "display_name": "Python 3.8.3 64-bit"
  }
 },
 "nbformat": 4,
 "nbformat_minor": 2
}